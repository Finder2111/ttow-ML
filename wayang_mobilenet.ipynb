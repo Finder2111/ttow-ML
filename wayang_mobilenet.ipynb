{
  "nbformat": 4,
  "nbformat_minor": 0,
  "metadata": {
    "accelerator": "GPU",
    "colab": {
      "name": "wayang-mobilenet.ipynb",
      "provenance": [],
      "collapsed_sections": [],
      "include_colab_link": true
    },
    "kernelspec": {
      "display_name": "Python 3",
      "name": "python3"
    },
    "language_info": {
      "name": "python"
    }
  },
  "cells": [
    {
      "cell_type": "markdown",
      "metadata": {
        "id": "view-in-github",
        "colab_type": "text"
      },
      "source": [
        "<a href=\"https://colab.research.google.com/github/cavannus/ttow-ML/blob/main/wayang_mobilenet.ipynb\" target=\"_parent\"><img src=\"https://colab.research.google.com/assets/colab-badge.svg\" alt=\"Open In Colab\"/></a>"
      ]
    },
    {
      "cell_type": "markdown",
      "metadata": {
        "id": "kJdo0c_SN3tQ"
      },
      "source": [
        "Unzip the dataset. The dataset contains 4 classes and needs to be split into train and validation later."
      ]
    },
    {
      "cell_type": "code",
      "metadata": {
        "id": "kKt3WjQp6DN6"
      },
      "source": [
        "import os\n",
        "import zipfile\n",
        "\n",
        "# local_zip = '/content/wayang-edited-final.zip'\n",
        "local_zip = '/content/wayang-final-dataset.zip'\n",
        "\n",
        "zip_ref = zipfile.ZipFile(local_zip, 'r')\n",
        "\n",
        "zip_ref.extractall('/content')\n",
        "zip_ref.close()"
      ],
      "execution_count": 1,
      "outputs": []
    },
    {
      "cell_type": "code",
      "metadata": {
        "id": "bCtSX_z56MO3"
      },
      "source": [
        "base_dir = '/content/augmented/'"
      ],
      "execution_count": 2,
      "outputs": []
    },
    {
      "cell_type": "code",
      "metadata": {
        "id": "o3WXVo3BL0BI"
      },
      "source": [
        "IMG_WIDTH = 175\n",
        "IMG_HEIGHT = 225\n",
        "\n",
        "IMG_SIZE = (IMG_WIDTH, IMG_HEIGHT)\n",
        "IMG_SHAPE = IMG_SIZE + (3,)"
      ],
      "execution_count": 3,
      "outputs": []
    },
    {
      "cell_type": "code",
      "metadata": {
        "id": "HZS6UIgBDVKp"
      },
      "source": [
        "import tensorflow as tf"
      ],
      "execution_count": 4,
      "outputs": []
    },
    {
      "cell_type": "code",
      "metadata": {
        "id": "DyYrl5gCPUeM"
      },
      "source": [
        "train_batch = 40\n",
        "train_epoch = 80\n",
        "val_batch = 40\n",
        "val_epoch = 20"
      ],
      "execution_count": 5,
      "outputs": []
    },
    {
      "cell_type": "code",
      "metadata": {
        "colab": {
          "base_uri": "https://localhost:8080/"
        },
        "id": "hJq_UNZ6ItiU",
        "outputId": "db31df43-b2d6-442b-f1d1-74746f909ff6"
      },
      "source": [
        "from tensorflow.keras.preprocessing.image import ImageDataGenerator\n",
        "\n",
        "train_datagen = ImageDataGenerator(rescale = 1.0/255,\n",
        "                                  #  horizontal_flip = True,\n",
        "                                  #  width_shift_range = 0.1,\n",
        "                                  #  height_shift_range = 0.1,\n",
        "                                  #  fill_mode = 'nearest',\n",
        "                                  #  rotation_range=15,\n",
        "                                  #  zoom_range=0.2,\n",
        "                                   validation_split=0.2\n",
        "                                   )\n",
        "\n",
        "\n",
        "train_generator = train_datagen.flow_from_directory(base_dir,\n",
        "                                                    batch_size=train_batch,\n",
        "                                                    class_mode='categorical',\n",
        "                                                    target_size=(IMG_HEIGHT, IMG_WIDTH),\n",
        "                                                    shuffle=True,\n",
        "                                                    subset='training')     \n",
        "\n",
        "validation_generator =  train_datagen.flow_from_directory(base_dir,\n",
        "                                                         batch_size=val_batch,\n",
        "                                                         class_mode='categorical',\n",
        "                                                         target_size=(IMG_HEIGHT, IMG_WIDTH),\n",
        "                                                         shuffle=True,\n",
        "                                                         subset='validation')\n"
      ],
      "execution_count": 6,
      "outputs": [
        {
          "output_type": "stream",
          "text": [
            "Found 3575 images belonging to 4 classes.\n",
            "Found 893 images belonging to 4 classes.\n"
          ],
          "name": "stdout"
        }
      ]
    },
    {
      "cell_type": "code",
      "metadata": {
        "colab": {
          "base_uri": "https://localhost:8080/"
        },
        "id": "P8RF8wUm7meU",
        "outputId": "5e0713c4-7500-455c-a258-d8b8003e684c"
      },
      "source": [
        "labels_dict = train_generator.class_indices\n",
        "wayang_labels = dict((v, k) for k, v in labels_dict.items())\n",
        "print(wayang_labels)"
      ],
      "execution_count": 20,
      "outputs": [
        {
          "output_type": "stream",
          "text": [
            "{0: 'bagong', 1: 'gareng', 2: 'petruk', 3: 'semar'}\n"
          ],
          "name": "stdout"
        }
      ]
    },
    {
      "cell_type": "code",
      "metadata": {
        "colab": {
          "base_uri": "https://localhost:8080/"
        },
        "id": "bcox_wfP4K6o",
        "outputId": "1b22624a-be71-4500-a7cb-9ab87e89dab6"
      },
      "source": [
        "import os\n",
        "\n",
        "dataset_counts = []\n",
        "total_dataset_count = 0\n",
        "\n",
        "for root, _, fileList in os.walk('./augmented/'):\n",
        "    for _, label in wayang_labels.items():\n",
        "        if label in root:\n",
        "            dataset_counts.append(len(fileList))\n",
        "            total_dataset_count += len(fileList)\n",
        "\n",
        "print(dataset_counts, total_dataset_count)"
      ],
      "execution_count": null,
      "outputs": [
        {
          "output_type": "stream",
          "text": [
            "[1120, 1040, 1208, 1100] 4468\n"
          ],
          "name": "stdout"
        }
      ]
    },
    {
      "cell_type": "markdown",
      "metadata": {
        "id": "cwS3VMFF6DM_"
      },
      "source": [
        "Since we are working with imbalanced dataset, we will use class weights in the model."
      ]
    },
    {
      "cell_type": "code",
      "metadata": {
        "colab": {
          "base_uri": "https://localhost:8080/"
        },
        "id": "SoRIpLO54gAG",
        "outputId": "ef7b5d14-3a0d-43db-dd75-ad845ddda390"
      },
      "source": [
        "import sklearn\n",
        "import numpy as np\n",
        "\n",
        "# class_weight_list = sklearn.utils.class_weight.compute_class_weight('balanced',\n",
        "#                                                                np.unique(train_generator.classes),\n",
        "#                                                                train_generator.classes)\n",
        "\n",
        "# class_weights = {}\n",
        "\n",
        "# for k, _ in wayang_labels.items():\n",
        "#   class_weights[k] = class_weight_list[k]\n",
        "\n",
        "class_weights = {0: 0.9147058823529411, 1: 1.4136363636363636, 2: 1.0798611111111112, 3: 0.7853535353535354}\n",
        "\n",
        "print(class_weights)"
      ],
      "execution_count": 7,
      "outputs": [
        {
          "output_type": "stream",
          "text": [
            "{0: 0.9147058823529411, 1: 1.4136363636363636, 2: 1.0798611111111112, 3: 0.7853535353535354}\n"
          ],
          "name": "stdout"
        }
      ]
    },
    {
      "cell_type": "markdown",
      "metadata": {
        "id": "sE05Y9LwOH87"
      },
      "source": [
        "This part defines the model used for transfer learning, which is MobileNetV2."
      ]
    },
    {
      "cell_type": "code",
      "metadata": {
        "colab": {
          "base_uri": "https://localhost:8080/"
        },
        "id": "Irn3yMPXL5FK",
        "outputId": "d55c1f8a-a6da-4502-d0a5-07520ccbbb94"
      },
      "source": [
        "base_model = tf.keras.applications.MobileNetV2(input_shape=IMG_SHAPE,\n",
        "                                               include_top=False,\n",
        "                                               weights='imagenet')\n",
        "# base_model.summary()"
      ],
      "execution_count": 32,
      "outputs": [
        {
          "output_type": "stream",
          "text": [
            "WARNING:tensorflow:`input_shape` is undefined or non-square, or `rows` is not in [96, 128, 160, 192, 224]. Weights for input shape (224, 224) will be loaded as the default.\n"
          ],
          "name": "stdout"
        }
      ]
    },
    {
      "cell_type": "markdown",
      "metadata": {
        "id": "SwOh1r_iOUW3"
      },
      "source": [
        "Fine tuning on MobileNet by unfreezing the first 75 layer of the model"
      ]
    },
    {
      "cell_type": "code",
      "metadata": {
        "id": "t9xFdTzAqeuF"
      },
      "source": [
        "base_model.trainable = True\n",
        "\n",
        "for layer in base_model.layers[:25]:\n",
        "  layer.trainable = False"
      ],
      "execution_count": 33,
      "outputs": []
    },
    {
      "cell_type": "code",
      "metadata": {
        "id": "HOKIyZErMpZ7"
      },
      "source": [
        "inputs = tf.keras.Input(shape=IMG_SHAPE)\n",
        "x = base_model(inputs, training=False)\n",
        "x = tf.keras.layers.GlobalAveragePooling2D()(x)\n",
        "x = tf.keras.layers.Dropout(0.5)(x)\n",
        "x = tf.keras.layers.Dense(16)(x)\n",
        "x = tf.keras.layers.Dense(32)(x)\n",
        "x = tf.keras.layers.Dense(64)(x)\n",
        "x = tf.keras.layers.Dense(32)(x)\n",
        "x = tf.keras.layers.Dense(16)(x)\n",
        "outputs = tf.keras.layers.Dense(4, activation='softmax')(x)\n",
        "model = tf.keras.Model(inputs, outputs)"
      ],
      "execution_count": 34,
      "outputs": []
    },
    {
      "cell_type": "code",
      "metadata": {
        "colab": {
          "base_uri": "https://localhost:8080/"
        },
        "id": "6cI1_bJtNWT4",
        "outputId": "e8c29b1e-cc13-44dc-a1d1-0edbc22af393"
      },
      "source": [
        "model.compile(optimizer=tf.keras.optimizers.Adam(learning_rate=5e-7),\n",
        "              loss='categorical_crossentropy',\n",
        "              metrics=['accuracy'])\n",
        "model.summary()"
      ],
      "execution_count": 35,
      "outputs": [
        {
          "output_type": "stream",
          "text": [
            "Model: \"model_2\"\n",
            "_________________________________________________________________\n",
            "Layer (type)                 Output Shape              Param #   \n",
            "=================================================================\n",
            "input_6 (InputLayer)         [(None, 175, 225, 3)]     0         \n",
            "_________________________________________________________________\n",
            "mobilenetv2_1.00_224 (Functi (None, 6, 8, 1280)        2257984   \n",
            "_________________________________________________________________\n",
            "global_average_pooling2d_2 ( (None, 1280)              0         \n",
            "_________________________________________________________________\n",
            "dropout_2 (Dropout)          (None, 1280)              0         \n",
            "_________________________________________________________________\n",
            "dense_12 (Dense)             (None, 16)                20496     \n",
            "_________________________________________________________________\n",
            "dense_13 (Dense)             (None, 32)                544       \n",
            "_________________________________________________________________\n",
            "dense_14 (Dense)             (None, 64)                2112      \n",
            "_________________________________________________________________\n",
            "dense_15 (Dense)             (None, 32)                2080      \n",
            "_________________________________________________________________\n",
            "dense_16 (Dense)             (None, 16)                528       \n",
            "_________________________________________________________________\n",
            "dense_17 (Dense)             (None, 4)                 68        \n",
            "=================================================================\n",
            "Total params: 2,283,812\n",
            "Trainable params: 2,233,956\n",
            "Non-trainable params: 49,856\n",
            "_________________________________________________________________\n"
          ],
          "name": "stdout"
        }
      ]
    },
    {
      "cell_type": "code",
      "metadata": {
        "id": "LCtyYi5nL3lS"
      },
      "source": [
        "class Acc_Callback(tf.keras.callbacks.Callback):\n",
        "  def on_epoch_end(self, epoch, logs):\n",
        "    if logs['accuracy'] > 0.95:\n",
        "      print('\\nAccuracy is more than 95%')\n",
        "      self.model.stop_training = True\n",
        "    elif logs['val_accuracy'] > 0.95:\n",
        "      print('\\nVal-Accuracy is more than 95%')\n",
        "      self.model.stop_training = True\n",
        "\n",
        "earlyStop = tf.keras.callbacks.EarlyStopping(monitor='accuracy', min_delta=1e-5, patience=5)\n",
        "\n",
        "callbacks = [Acc_Callback(),\n",
        "            #  earlyStop,\n",
        "             ]"
      ],
      "execution_count": 36,
      "outputs": []
    },
    {
      "cell_type": "code",
      "metadata": {
        "colab": {
          "base_uri": "https://localhost:8080/"
        },
        "id": "74db67YlJ8Rj",
        "outputId": "953aaebb-8352-4e9d-d52f-c560f0103efb"
      },
      "source": [
        "history = model.fit(train_generator,\n",
        "                    validation_data=validation_generator,\n",
        "                    steps_per_epoch=train_batch,\n",
        "                    epochs=train_epoch,\n",
        "                    validation_steps=val_epoch,\n",
        "                    verbose=2,\n",
        "                    callbacks=callbacks,\n",
        "                    class_weight=class_weights)"
      ],
      "execution_count": 37,
      "outputs": [
        {
          "output_type": "stream",
          "text": [
            "Epoch 1/80\n",
            "40/40 - 9s - loss: 2.4622 - accuracy: 0.2546 - val_loss: 1.8685 - val_accuracy: 0.2188\n",
            "Epoch 2/80\n",
            "40/40 - 5s - loss: 2.1846 - accuracy: 0.2775 - val_loss: 1.7746 - val_accuracy: 0.2125\n",
            "Epoch 3/80\n",
            "40/40 - 5s - loss: 2.0072 - accuracy: 0.2894 - val_loss: 1.7361 - val_accuracy: 0.2250\n",
            "Epoch 4/80\n",
            "40/40 - 5s - loss: 2.0242 - accuracy: 0.2927 - val_loss: 1.6456 - val_accuracy: 0.2400\n",
            "Epoch 5/80\n",
            "40/40 - 5s - loss: 1.9135 - accuracy: 0.3175 - val_loss: 1.5844 - val_accuracy: 0.2562\n",
            "Epoch 6/80\n",
            "40/40 - 5s - loss: 1.8459 - accuracy: 0.3094 - val_loss: 1.5460 - val_accuracy: 0.2450\n",
            "Epoch 7/80\n",
            "40/40 - 5s - loss: 1.7161 - accuracy: 0.3344 - val_loss: 1.5167 - val_accuracy: 0.2512\n",
            "Epoch 8/80\n",
            "40/40 - 5s - loss: 1.6568 - accuracy: 0.3524 - val_loss: 1.4649 - val_accuracy: 0.2763\n",
            "Epoch 9/80\n",
            "40/40 - 5s - loss: 1.5786 - accuracy: 0.3550 - val_loss: 1.4268 - val_accuracy: 0.2937\n",
            "Epoch 10/80\n",
            "40/40 - 5s - loss: 1.5558 - accuracy: 0.3448 - val_loss: 1.3956 - val_accuracy: 0.3013\n",
            "Epoch 11/80\n",
            "40/40 - 5s - loss: 1.5745 - accuracy: 0.3619 - val_loss: 1.3595 - val_accuracy: 0.3288\n",
            "Epoch 12/80\n",
            "40/40 - 5s - loss: 1.4221 - accuracy: 0.4063 - val_loss: 1.3359 - val_accuracy: 0.3363\n",
            "Epoch 13/80\n",
            "40/40 - 5s - loss: 1.4244 - accuracy: 0.3944 - val_loss: 1.3227 - val_accuracy: 0.3475\n",
            "Epoch 14/80\n",
            "40/40 - 5s - loss: 1.4214 - accuracy: 0.3968 - val_loss: 1.2988 - val_accuracy: 0.3700\n",
            "Epoch 15/80\n",
            "40/40 - 5s - loss: 1.3539 - accuracy: 0.4087 - val_loss: 1.2829 - val_accuracy: 0.3725\n",
            "Epoch 16/80\n",
            "40/40 - 5s - loss: 1.3373 - accuracy: 0.4133 - val_loss: 1.2675 - val_accuracy: 0.3812\n",
            "Epoch 17/80\n",
            "40/40 - 5s - loss: 1.3274 - accuracy: 0.4159 - val_loss: 1.2506 - val_accuracy: 0.3963\n",
            "Epoch 18/80\n",
            "40/40 - 5s - loss: 1.2650 - accuracy: 0.4311 - val_loss: 1.2413 - val_accuracy: 0.4062\n",
            "Epoch 19/80\n",
            "40/40 - 5s - loss: 1.2605 - accuracy: 0.4375 - val_loss: 1.2194 - val_accuracy: 0.4313\n",
            "Epoch 20/80\n",
            "40/40 - 5s - loss: 1.1959 - accuracy: 0.4737 - val_loss: 1.2142 - val_accuracy: 0.4425\n",
            "Epoch 21/80\n",
            "40/40 - 5s - loss: 1.2430 - accuracy: 0.4588 - val_loss: 1.1959 - val_accuracy: 0.4487\n",
            "Epoch 22/80\n",
            "40/40 - 5s - loss: 1.2013 - accuracy: 0.4667 - val_loss: 1.1773 - val_accuracy: 0.4762\n",
            "Epoch 23/80\n",
            "40/40 - 5s - loss: 1.1681 - accuracy: 0.4921 - val_loss: 1.1809 - val_accuracy: 0.4700\n",
            "Epoch 24/80\n",
            "40/40 - 5s - loss: 1.1933 - accuracy: 0.4787 - val_loss: 1.1689 - val_accuracy: 0.4688\n",
            "Epoch 25/80\n",
            "40/40 - 5s - loss: 1.1466 - accuracy: 0.4806 - val_loss: 1.1539 - val_accuracy: 0.4925\n",
            "Epoch 26/80\n",
            "40/40 - 5s - loss: 1.0905 - accuracy: 0.5232 - val_loss: 1.1409 - val_accuracy: 0.4988\n",
            "Epoch 27/80\n",
            "40/40 - 5s - loss: 1.1252 - accuracy: 0.5092 - val_loss: 1.1255 - val_accuracy: 0.5100\n",
            "Epoch 28/80\n",
            "40/40 - 5s - loss: 1.1046 - accuracy: 0.5181 - val_loss: 1.1202 - val_accuracy: 0.5225\n",
            "Epoch 29/80\n",
            "40/40 - 5s - loss: 1.0797 - accuracy: 0.5281 - val_loss: 1.1136 - val_accuracy: 0.5150\n",
            "Epoch 30/80\n",
            "40/40 - 5s - loss: 1.0924 - accuracy: 0.5263 - val_loss: 1.1116 - val_accuracy: 0.5250\n",
            "Epoch 31/80\n",
            "40/40 - 5s - loss: 1.1072 - accuracy: 0.5294 - val_loss: 1.0910 - val_accuracy: 0.5288\n",
            "Epoch 32/80\n",
            "40/40 - 5s - loss: 1.0381 - accuracy: 0.5681 - val_loss: 1.0890 - val_accuracy: 0.5238\n",
            "Epoch 33/80\n",
            "40/40 - 5s - loss: 1.0404 - accuracy: 0.5498 - val_loss: 1.0753 - val_accuracy: 0.5400\n",
            "Epoch 34/80\n",
            "40/40 - 5s - loss: 1.0262 - accuracy: 0.5606 - val_loss: 1.0632 - val_accuracy: 0.5550\n",
            "Epoch 35/80\n",
            "40/40 - 5s - loss: 0.9950 - accuracy: 0.5688 - val_loss: 1.0577 - val_accuracy: 0.5425\n",
            "Epoch 36/80\n",
            "40/40 - 5s - loss: 1.0232 - accuracy: 0.5556 - val_loss: 1.0460 - val_accuracy: 0.5650\n",
            "Epoch 37/80\n",
            "40/40 - 5s - loss: 0.9962 - accuracy: 0.5838 - val_loss: 1.0323 - val_accuracy: 0.5713\n",
            "Epoch 38/80\n",
            "40/40 - 5s - loss: 0.9617 - accuracy: 0.5917 - val_loss: 1.0291 - val_accuracy: 0.5738\n",
            "Epoch 39/80\n",
            "40/40 - 5s - loss: 0.9562 - accuracy: 0.5813 - val_loss: 1.0185 - val_accuracy: 0.5700\n",
            "Epoch 40/80\n",
            "40/40 - 5s - loss: 0.9253 - accuracy: 0.6150 - val_loss: 1.0022 - val_accuracy: 0.5800\n",
            "Epoch 41/80\n",
            "40/40 - 5s - loss: 0.9166 - accuracy: 0.6050 - val_loss: 0.9886 - val_accuracy: 0.5938\n",
            "Epoch 42/80\n",
            "40/40 - 5s - loss: 0.9163 - accuracy: 0.6114 - val_loss: 0.9731 - val_accuracy: 0.6100\n",
            "Epoch 43/80\n",
            "40/40 - 5s - loss: 0.9107 - accuracy: 0.6286 - val_loss: 0.9766 - val_accuracy: 0.6025\n",
            "Epoch 44/80\n",
            "40/40 - 5s - loss: 0.8835 - accuracy: 0.6431 - val_loss: 0.9542 - val_accuracy: 0.6212\n",
            "Epoch 45/80\n",
            "40/40 - 5s - loss: 0.8507 - accuracy: 0.6519 - val_loss: 0.9501 - val_accuracy: 0.6150\n",
            "Epoch 46/80\n",
            "40/40 - 5s - loss: 0.8766 - accuracy: 0.6362 - val_loss: 0.9359 - val_accuracy: 0.6200\n",
            "Epoch 47/80\n",
            "40/40 - 5s - loss: 0.8545 - accuracy: 0.6463 - val_loss: 0.9320 - val_accuracy: 0.6187\n",
            "Epoch 48/80\n",
            "40/40 - 5s - loss: 0.8378 - accuracy: 0.6559 - val_loss: 0.9158 - val_accuracy: 0.6363\n",
            "Epoch 49/80\n",
            "40/40 - 5s - loss: 0.8319 - accuracy: 0.6506 - val_loss: 0.9151 - val_accuracy: 0.6250\n",
            "Epoch 50/80\n",
            "40/40 - 5s - loss: 0.8397 - accuracy: 0.6475 - val_loss: 0.8981 - val_accuracy: 0.6488\n",
            "Epoch 51/80\n",
            "40/40 - 5s - loss: 0.7799 - accuracy: 0.6756 - val_loss: 0.8913 - val_accuracy: 0.6400\n",
            "Epoch 52/80\n",
            "40/40 - 5s - loss: 0.7922 - accuracy: 0.6769 - val_loss: 0.8729 - val_accuracy: 0.6525\n",
            "Epoch 53/80\n",
            "40/40 - 5s - loss: 0.8045 - accuracy: 0.6587 - val_loss: 0.8666 - val_accuracy: 0.6538\n",
            "Epoch 54/80\n",
            "40/40 - 5s - loss: 0.7784 - accuracy: 0.6706 - val_loss: 0.8618 - val_accuracy: 0.6675\n",
            "Epoch 55/80\n",
            "40/40 - 5s - loss: 0.7786 - accuracy: 0.6692 - val_loss: 0.8511 - val_accuracy: 0.6637\n",
            "Epoch 56/80\n",
            "40/40 - 5s - loss: 0.7409 - accuracy: 0.6894 - val_loss: 0.8318 - val_accuracy: 0.6737\n",
            "Epoch 57/80\n",
            "40/40 - 5s - loss: 0.7326 - accuracy: 0.6883 - val_loss: 0.8231 - val_accuracy: 0.6938\n",
            "Epoch 58/80\n",
            "40/40 - 5s - loss: 0.7330 - accuracy: 0.6975 - val_loss: 0.8170 - val_accuracy: 0.6900\n",
            "Epoch 59/80\n",
            "40/40 - 5s - loss: 0.7254 - accuracy: 0.7069 - val_loss: 0.8062 - val_accuracy: 0.6963\n",
            "Epoch 60/80\n",
            "40/40 - 5s - loss: 0.7206 - accuracy: 0.7050 - val_loss: 0.7937 - val_accuracy: 0.6988\n",
            "Epoch 61/80\n",
            "40/40 - 5s - loss: 0.7243 - accuracy: 0.6975 - val_loss: 0.7822 - val_accuracy: 0.7025\n",
            "Epoch 62/80\n",
            "40/40 - 5s - loss: 0.7088 - accuracy: 0.7098 - val_loss: 0.7816 - val_accuracy: 0.7063\n",
            "Epoch 63/80\n",
            "40/40 - 5s - loss: 0.6976 - accuracy: 0.7200 - val_loss: 0.7734 - val_accuracy: 0.7050\n",
            "Epoch 64/80\n",
            "40/40 - 5s - loss: 0.6856 - accuracy: 0.7206 - val_loss: 0.7642 - val_accuracy: 0.7063\n",
            "Epoch 65/80\n",
            "40/40 - 5s - loss: 0.6754 - accuracy: 0.7156 - val_loss: 0.7532 - val_accuracy: 0.7163\n",
            "Epoch 66/80\n",
            "40/40 - 5s - loss: 0.6779 - accuracy: 0.7206 - val_loss: 0.7393 - val_accuracy: 0.7387\n",
            "Epoch 67/80\n",
            "40/40 - 5s - loss: 0.6543 - accuracy: 0.7390 - val_loss: 0.7340 - val_accuracy: 0.7312\n",
            "Epoch 68/80\n",
            "40/40 - 5s - loss: 0.6196 - accuracy: 0.7519 - val_loss: 0.7185 - val_accuracy: 0.7337\n",
            "Epoch 69/80\n",
            "40/40 - 5s - loss: 0.6409 - accuracy: 0.7456 - val_loss: 0.7062 - val_accuracy: 0.7437\n",
            "Epoch 70/80\n",
            "40/40 - 5s - loss: 0.6222 - accuracy: 0.7294 - val_loss: 0.7047 - val_accuracy: 0.7362\n",
            "Epoch 71/80\n",
            "40/40 - 5s - loss: 0.6323 - accuracy: 0.7429 - val_loss: 0.6958 - val_accuracy: 0.7500\n",
            "Epoch 72/80\n",
            "40/40 - 5s - loss: 0.5962 - accuracy: 0.7537 - val_loss: 0.6792 - val_accuracy: 0.7663\n",
            "Epoch 73/80\n",
            "40/40 - 5s - loss: 0.5828 - accuracy: 0.7675 - val_loss: 0.6803 - val_accuracy: 0.7538\n",
            "Epoch 74/80\n",
            "40/40 - 5s - loss: 0.5904 - accuracy: 0.7631 - val_loss: 0.6686 - val_accuracy: 0.7625\n",
            "Epoch 75/80\n",
            "40/40 - 5s - loss: 0.5732 - accuracy: 0.7694 - val_loss: 0.6572 - val_accuracy: 0.7675\n",
            "Epoch 76/80\n",
            "40/40 - 5s - loss: 0.5584 - accuracy: 0.7759 - val_loss: 0.6561 - val_accuracy: 0.7650\n",
            "Epoch 77/80\n",
            "40/40 - 5s - loss: 0.5253 - accuracy: 0.7854 - val_loss: 0.6459 - val_accuracy: 0.7675\n",
            "Epoch 78/80\n",
            "40/40 - 5s - loss: 0.5432 - accuracy: 0.7733 - val_loss: 0.6454 - val_accuracy: 0.7750\n",
            "Epoch 79/80\n",
            "40/40 - 5s - loss: 0.5334 - accuracy: 0.7848 - val_loss: 0.6366 - val_accuracy: 0.7725\n",
            "Epoch 80/80\n",
            "40/40 - 5s - loss: 0.5276 - accuracy: 0.7810 - val_loss: 0.6299 - val_accuracy: 0.7788\n"
          ],
          "name": "stdout"
        }
      ]
    },
    {
      "cell_type": "code",
      "metadata": {
        "colab": {
          "base_uri": "https://localhost:8080/",
          "height": 562
        },
        "id": "lp-p-wlHLG7Y",
        "outputId": "b7bd75c9-1d5d-4835-b62b-2b95396dc5b5"
      },
      "source": [
        "import matplotlib.pyplot as plt\n",
        "\n",
        "acc = history.history['accuracy']\n",
        "val_acc = history.history['val_accuracy']\n",
        "loss = history.history['loss']\n",
        "val_loss = history.history['val_loss']\n",
        "\n",
        "epochs = range(len(acc))\n",
        "\n",
        "plt.plot(epochs, acc)\n",
        "plt.plot(epochs, val_acc)\n",
        "plt.title('Training and validation accuracy')\n",
        "plt.figure()\n",
        "\n",
        "plt.plot(epochs, loss)\n",
        "plt.plot(epochs, val_loss)\n",
        "plt.title ('Training and validation loss')"
      ],
      "execution_count": 14,
      "outputs": [
        {
          "output_type": "execute_result",
          "data": {
            "text/plain": [
              "Text(0.5, 1.0, 'Training and validation loss')"
            ]
          },
          "metadata": {
            "tags": []
          },
          "execution_count": 14
        },
        {
          "output_type": "display_data",
          "data": {
            "image/png": "[encoded data removed]",
            "text/plain": [
              "<Figure size 432x288 with 1 Axes>"
            ]
          },
          "metadata": {
            "tags": [],
            "needs_background": "light"
          }
        },
        {
          "output_type": "display_data",
          "data": {
            "image/png": "[encoded data removed]",
            "text/plain": [
              "<Figure size 432x288 with 1 Axes>"
            ]
          },
          "metadata": {
            "tags": [],
            "needs_background": "light"
          }
        }
      ]
    },
    {
      "cell_type": "code",
      "metadata": {
        "id": "CU-v_VGjLA0w",
        "colab": {
          "resources": {
            "http://localhost:8080/nbextensions/google.colab/files.js": {
              "data": "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",
              "ok": true,
              "headers": [
                [
                  "content-type",
                  "application/javascript"
                ]
              ],
              "status": 200,
              "status_text": ""
            }
          },
          "base_uri": "https://localhost:8080/",
          "height": 242
        },
        "outputId": "25324bba-0b50-4b2a-fd78-507fc25ca2eb"
      },
      "source": [
        "import numpy as np\n",
        "from google.colab import files\n",
        "from keras.preprocessing import image\n",
        "\n",
        "uploaded = files.upload()\n",
        "\n",
        "for fn in uploaded.keys():\n",
        "\n",
        "  path = '/content/' + fn\n",
        "  img = image.load_img(path, target_size=(IMG_WIDTH, IMG_HEIGHT))\n",
        "  \n",
        "  x = image.img_to_array(img)\n",
        "  x = np.expand_dims(x, axis=0)\n",
        "  images = np.vstack([x])\n",
        "  \n",
        "  classes_pred = model.predict(images, batch_size=10)\n",
        "  wayang_class = np.argmax(classes_pred)\n",
        "\n",
        "  print('{} is {}'.format(fn, wayang_labels[wayang_class]))\n",
        "  print(classes_pred)"
      ],
      "execution_count": 41,
      "outputs": [
        {
          "output_type": "display_data",
          "data": {
            "text/html": [
              "\n",
              "     <input type=\"file\" id=\"files-86c7215d-d3ae-441b-9bf7-9db3c321b57a\" name=\"files[]\" multiple disabled\n",
              "        style=\"border:none\" />\n",
              "     <output id=\"result-86c7215d-d3ae-441b-9bf7-9db3c321b57a\">\n",
              "      Upload widget is only available when the cell has been executed in the\n",
              "      current browser session. Please rerun this cell to enable.\n",
              "      </output>\n",
              "      <script src=\"/nbextensions/google.colab/files.js\"></script> "
            ],
            "text/plain": [
              "<IPython.core.display.HTML object>"
            ]
          },
          "metadata": {
            "tags": []
          }
        },
        {
          "output_type": "stream",
          "text": [
            "Saving petruk (1).jpg to petruk (1).jpg\n",
            "Saving petruk (4).jpg to petruk (4).jpg\n",
            "Saving petruk (17).jpg to petruk (17).jpg\n",
            "petruk (1).jpg is petruk\n",
            "[[0.18348353 0.04195826 0.42582604 0.3487322 ]]\n",
            "petruk (4).jpg is semar\n",
            "[[0.20168176 0.2539061  0.1686401  0.375772  ]]\n",
            "petruk (17).jpg is gareng\n",
            "[[0.17481984 0.45316675 0.08084717 0.2911662 ]]\n"
          ],
          "name": "stdout"
        }
      ]
    },
    {
      "cell_type": "code",
      "metadata": {
        "id": "vmRK5IfGcfsV"
      },
      "source": [
        "test_zip = '/content/wayang-test.zip'\n",
        "\n",
        "zip_ref = zipfile.ZipFile(test_zip, 'r')\n",
        "\n",
        "zip_ref.extractall('/content')\n",
        "zip_ref.close()"
      ],
      "execution_count": 15,
      "outputs": []
    },
    {
      "cell_type": "code",
      "metadata": {
        "colab": {
          "base_uri": "https://localhost:8080/"
        },
        "id": "Kw6bFoXjbhQE",
        "outputId": "15763e9e-1d56-4abc-a31c-54de1332ec26"
      },
      "source": [
        "test_dir = '/content/test'\n",
        "\n",
        "test_generator = train_datagen.flow_from_directory(test_dir,\n",
        "                                                   batch_size=1,\n",
        "                                                   class_mode='categorical',\n",
        "                                                   target_size=(IMG_HEIGHT, IMG_WIDTH)) "
      ],
      "execution_count": 39,
      "outputs": [
        {
          "output_type": "stream",
          "text": [
            "Found 120 images belonging to 4 classes.\n"
          ],
          "name": "stdout"
        }
      ]
    },
    {
      "cell_type": "code",
      "metadata": {
        "colab": {
          "base_uri": "https://localhost:8080/"
        },
        "id": "KJiTx-9SdKBp",
        "outputId": "c84ab6a3-1fc7-4f78-fb1e-07e4fa3022db"
      },
      "source": [
        "model.evaluate(test_generator,\n",
        "               batch_size=1,\n",
        "               steps=120,\n",
        "               verbose=1)"
      ],
      "execution_count": 40,
      "outputs": [
        {
          "output_type": "stream",
          "text": [
            "120/120 [==============================] - 1s 8ms/step - loss: 0.3313 - accuracy: 0.9000\n"
          ],
          "name": "stdout"
        },
        {
          "output_type": "execute_result",
          "data": {
            "text/plain": [
              "[0.33130285143852234, 0.8999999761581421]"
            ]
          },
          "metadata": {
            "tags": []
          },
          "execution_count": 40
        }
      ]
    },
    {
      "cell_type": "code",
      "metadata": {
        "colab": {
          "base_uri": "https://localhost:8080/"
        },
        "id": "KcVGMktNZ_NV",
        "outputId": "edec1fc1-9a7b-424b-9632-abd8a3b65087"
      },
      "source": [
        "modelBaseName = 'wayang-mobilenet-v4'\n",
        "modelTFLite = modelBaseName + '.tflite'\n",
        "converter = tf.lite.TFLiteConverter.from_keras_model(model)\n",
        "tflite_model = converter.convert()\n",
        "\n",
        "# Save the model.\n",
        "with open(modelTFLite, 'wb') as f:\n",
        "  f.write(tflite_model)"
      ],
      "execution_count": null,
      "outputs": [
        {
          "output_type": "stream",
          "text": [
            "/usr/local/lib/python3.7/dist-packages/tensorflow/python/keras/utils/generic_utils.py:497: CustomMaskWarning: Custom mask layers require a config and must override get_config. When loading, the custom mask layer must be passed to the custom_objects argument.\n",
            "  category=CustomMaskWarning)\n"
          ],
          "name": "stderr"
        },
        {
          "output_type": "stream",
          "text": [
            "INFO:tensorflow:Assets written to: /tmp/tmpl_kwrz9f/assets\n"
          ],
          "name": "stdout"
        }
      ]
    },
    {
      "cell_type": "code",
      "metadata": {
        "colab": {
          "base_uri": "https://localhost:8080/",
          "height": 34
        },
        "id": "BjwCn1wGmmJB",
        "outputId": "0a31cf76-83d2-4193-85ba-aefacc3051d1"
      },
      "source": [
        "from google.colab import files\n",
        "\n",
        "files.download(modelTFLite)"
      ],
      "execution_count": null,
      "outputs": [
        {
          "output_type": "display_data",
          "data": {
            "application/javascript": [
              "\n",
              "    async function download(id, filename, size) {\n",
              "      if (!google.colab.kernel.accessAllowed) {\n",
              "        return;\n",
              "      }\n",
              "      const div = document.createElement('div');\n",
              "      const label = document.createElement('label');\n",
              "      label.textContent = `Downloading \"${filename}\": `;\n",
              "      div.appendChild(label);\n",
              "      const progress = document.createElement('progress');\n",
              "      progress.max = size;\n",
              "      div.appendChild(progress);\n",
              "      document.body.appendChild(div);\n",
              "\n",
              "      const buffers = [];\n",
              "      let downloaded = 0;\n",
              "\n",
              "      const channel = await google.colab.kernel.comms.open(id);\n",
              "      // Send a message to notify the kernel that we're ready.\n",
              "      channel.send({})\n",
              "\n",
              "      for await (const message of channel.messages) {\n",
              "        // Send a message to notify the kernel that we're ready.\n",
              "        channel.send({})\n",
              "        if (message.buffers) {\n",
              "          for (const buffer of message.buffers) {\n",
              "            buffers.push(buffer);\n",
              "            downloaded += buffer.byteLength;\n",
              "            progress.value = downloaded;\n",
              "          }\n",
              "        }\n",
              "      }\n",
              "      const blob = new Blob(buffers, {type: 'application/binary'});\n",
              "      const a = document.createElement('a');\n",
              "      a.href = window.URL.createObjectURL(blob);\n",
              "      a.download = filename;\n",
              "      div.appendChild(a);\n",
              "      a.click();\n",
              "      div.remove();\n",
              "    }\n",
              "  "
            ],
            "text/plain": [
              "<IPython.core.display.Javascript object>"
            ]
          },
          "metadata": {
            "tags": []
          }
        },
        {
          "output_type": "display_data",
          "data": {
            "application/javascript": [
              "download(\"download_cb4e559a-de37-48de-abcf-9bb40b893ab1\", \"wayang-mobilenet-v4.tflite\", 8974084)"
            ],
            "text/plain": [
              "<IPython.core.display.Javascript object>"
            ]
          },
          "metadata": {
            "tags": []
          }
        }
      ]
    }
  ]
}