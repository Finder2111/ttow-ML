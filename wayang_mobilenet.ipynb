{
  "nbformat": 4,
  "nbformat_minor": 0,
  "metadata": {
    "accelerator": "GPU",
    "colab": {
      "name": "wayang-mobilenet.ipynb",
      "provenance": [],
      "collapsed_sections": [],
      "authorship_tag": "ABX9TyNoGIJEjFi26zuJFmhBxyDg",
      "include_colab_link": true
    },
    "kernelspec": {
      "display_name": "Python 3",
      "name": "python3"
    },
    "language_info": {
      "name": "python"
    }
  },
  "cells": [
    {
      "cell_type": "markdown",
      "metadata": {
        "id": "view-in-github",
        "colab_type": "text"
      },
      "source": [
        "<a href=\"https://colab.research.google.com/github/cavannus/ttow-ML/blob/main/wayang_mobilenet.ipynb\" target=\"_parent\"><img src=\"https://colab.research.google.com/assets/colab-badge.svg\" alt=\"Open In Colab\"/></a>"
      ]
    },
    {
      "cell_type": "markdown",
      "metadata": {
        "id": "kJdo0c_SN3tQ"
      },
      "source": [
        "Unzip the dataset. The dataset contains 4 classes and needs to be split into train and validation later."
      ]
    },
    {
      "cell_type": "code",
      "metadata": {
        "id": "kKt3WjQp6DN6"
      },
      "source": [
        "import os\n",
        "import zipfile\n",
        "\n",
        "local_zip = '/content/wayang-edited-final.zip'\n",
        "\n",
        "zip_ref = zipfile.ZipFile(local_zip, 'r')\n",
        "\n",
        "zip_ref.extractall('/content')\n",
        "zip_ref.close()"
      ],
      "execution_count": null,
      "outputs": []
    },
    {
      "cell_type": "code",
      "metadata": {
        "id": "bCtSX_z56MO3"
      },
      "source": [
        "base_dir = '/content/augmented/'"
      ],
      "execution_count": null,
      "outputs": []
    },
    {
      "cell_type": "code",
      "metadata": {
        "id": "o3WXVo3BL0BI"
      },
      "source": [
        "IMG_WIDTH = 175\n",
        "IMG_HEIGHT = 225\n",
        "\n",
        "IMG_SIZE = (IMG_WIDTH, IMG_HEIGHT)\n",
        "IMG_SHAPE = IMG_SIZE + (3,)"
      ],
      "execution_count": null,
      "outputs": []
    },
    {
      "cell_type": "code",
      "metadata": {
        "id": "HZS6UIgBDVKp"
      },
      "source": [
        "import tensorflow as tf"
      ],
      "execution_count": null,
      "outputs": []
    },
    {
      "cell_type": "code",
      "metadata": {
        "id": "DyYrl5gCPUeM"
      },
      "source": [
        "train_batch = 40\n",
        "train_epoch = 80\n",
        "val_batch = 40\n",
        "val_epoch = 20"
      ],
      "execution_count": null,
      "outputs": []
    },
    {
      "cell_type": "code",
      "metadata": {
        "colab": {
          "base_uri": "https://localhost:8080/"
        },
        "id": "hJq_UNZ6ItiU",
        "outputId": "efd31656-8a18-44ec-aa62-18214a15d226"
      },
      "source": [
        "from tensorflow.keras.preprocessing.image import ImageDataGenerator\n",
        "\n",
        "train_datagen = ImageDataGenerator(rescale = 1.0/255,\n",
        "                                  #  horizontal_flip = True,\n",
        "                                  #  width_shift_range = 0.1,\n",
        "                                  #  height_shift_range = 0.1,\n",
        "                                  #  fill_mode = 'nearest',\n",
        "                                  #  rotation_range=15,\n",
        "                                  #  zoom_range=0.2,\n",
        "                                   validation_split=0.2\n",
        "                                   )\n",
        "\n",
        "\n",
        "train_generator = train_datagen.flow_from_directory(base_dir,\n",
        "                                                    batch_size=train_batch,\n",
        "                                                    class_mode='categorical',\n",
        "                                                    target_size=(IMG_HEIGHT, IMG_WIDTH),\n",
        "                                                    shuffle=True,\n",
        "                                                    subset='training')     \n",
        "\n",
        "validation_generator =  train_datagen.flow_from_directory(base_dir,\n",
        "                                                         batch_size=val_batch,\n",
        "                                                         class_mode='categorical',\n",
        "                                                         target_size=(IMG_HEIGHT, IMG_WIDTH),\n",
        "                                                         shuffle=True,\n",
        "                                                         subset='validation')\n"
      ],
      "execution_count": null,
      "outputs": [
        {
          "output_type": "stream",
          "text": [
            "Found 3575 images belonging to 4 classes.\n",
            "Found 893 images belonging to 4 classes.\n"
          ],
          "name": "stdout"
        }
      ]
    },
    {
      "cell_type": "code",
      "metadata": {
        "colab": {
          "base_uri": "https://localhost:8080/"
        },
        "id": "P8RF8wUm7meU",
        "outputId": "6a299982-973a-4cee-c5dc-f247ea0fdda3"
      },
      "source": [
        "labels_dict = train_generator.class_indices\n",
        "wayang_labels = dict((v, k) for k, v in labels_dict.items())\n",
        "print(wayang_labels)"
      ],
      "execution_count": null,
      "outputs": [
        {
          "output_type": "stream",
          "text": [
            "{0: 'bagong', 1: 'gareng', 2: 'petruk', 3: 'semar'}\n"
          ],
          "name": "stdout"
        }
      ]
    },
    {
      "cell_type": "code",
      "metadata": {
        "colab": {
          "base_uri": "https://localhost:8080/"
        },
        "id": "bcox_wfP4K6o",
        "outputId": "1b22624a-be71-4500-a7cb-9ab87e89dab6"
      },
      "source": [
        "import os\n",
        "\n",
        "dataset_counts = []\n",
        "total_dataset_count = 0\n",
        "\n",
        "for root, _, fileList in os.walk('./augmented/'):\n",
        "    for _, label in wayang_labels.items():\n",
        "        if label in root:\n",
        "            dataset_counts.append(len(fileList))\n",
        "            total_dataset_count += len(fileList)\n",
        "\n",
        "print(dataset_counts, total_dataset_count)"
      ],
      "execution_count": null,
      "outputs": [
        {
          "output_type": "stream",
          "text": [
            "[1120, 1040, 1208, 1100] 4468\n"
          ],
          "name": "stdout"
        }
      ]
    },
    {
      "cell_type": "markdown",
      "metadata": {
        "id": "cwS3VMFF6DM_"
      },
      "source": [
        "Since we are working with imbalanced dataset, we will use class weights in the model."
      ]
    },
    {
      "cell_type": "code",
      "metadata": {
        "colab": {
          "base_uri": "https://localhost:8080/"
        },
        "id": "SoRIpLO54gAG",
        "outputId": "2498ba99-59aa-4fb5-b9d6-90a200695622"
      },
      "source": [
        "import sklearn\n",
        "import numpy as np\n",
        "\n",
        "# class_weight_list = sklearn.utils.class_weight.compute_class_weight('balanced',\n",
        "#                                                                np.unique(train_generator.classes),\n",
        "#                                                                train_generator.classes)\n",
        "\n",
        "# class_weights = {}\n",
        "\n",
        "# for k, _ in wayang_labels.items():\n",
        "#   class_weights[k] = class_weight_list[k]\n",
        "\n",
        "class_weights = {0: 0.9147058823529411, 1: 1.4136363636363636, 2: 1.0798611111111112, 3: 0.7853535353535354}\n",
        "\n",
        "print(class_weights)"
      ],
      "execution_count": null,
      "outputs": [
        {
          "output_type": "stream",
          "text": [
            "{0: 0.9147058823529411, 1: 1.4136363636363636, 2: 1.0798611111111112, 3: 0.7853535353535354}\n"
          ],
          "name": "stdout"
        }
      ]
    },
    {
      "cell_type": "markdown",
      "metadata": {
        "id": "sE05Y9LwOH87"
      },
      "source": [
        "This part defines the model used for transfer learning, which is MobileNetV2."
      ]
    },
    {
      "cell_type": "code",
      "metadata": {
        "colab": {
          "base_uri": "https://localhost:8080/"
        },
        "id": "Irn3yMPXL5FK",
        "outputId": "ccdcca60-f985-47ce-9e8a-627f4ae42f73"
      },
      "source": [
        "base_model = tf.keras.applications.MobileNetV2(input_shape=IMG_SHAPE,\n",
        "                                               include_top=False,\n",
        "                                               weights='imagenet')\n",
        "base_model.summary()"
      ],
      "execution_count": null,
      "outputs": [
        {
          "output_type": "stream",
          "text": [
            "WARNING:tensorflow:`input_shape` is undefined or non-square, or `rows` is not in [96, 128, 160, 192, 224]. Weights for input shape (224, 224) will be loaded as the default.\n"
          ],
          "name": "stdout"
        },
        {
          "output_type": "stream",
          "text": [
            "WARNING:tensorflow:`input_shape` is undefined or non-square, or `rows` is not in [96, 128, 160, 192, 224]. Weights for input shape (224, 224) will be loaded as the default.\n"
          ],
          "name": "stderr"
        },
        {
          "output_type": "stream",
          "text": [
            "Model: \"mobilenetv2_1.00_224\"\n",
            "__________________________________________________________________________________________________\n",
            "Layer (type)                    Output Shape         Param #     Connected to                     \n",
            "==================================================================================================\n",
            "input_19 (InputLayer)           [(None, 175, 225, 3) 0                                            \n",
            "__________________________________________________________________________________________________\n",
            "Conv1 (Conv2D)                  (None, 88, 113, 32)  864         input_19[0][0]                   \n",
            "__________________________________________________________________________________________________\n",
            "bn_Conv1 (BatchNormalization)   (None, 88, 113, 32)  128         Conv1[0][0]                      \n",
            "__________________________________________________________________________________________________\n",
            "Conv1_relu (ReLU)               (None, 88, 113, 32)  0           bn_Conv1[0][0]                   \n",
            "__________________________________________________________________________________________________\n",
            "expanded_conv_depthwise (Depthw (None, 88, 113, 32)  288         Conv1_relu[0][0]                 \n",
            "__________________________________________________________________________________________________\n",
            "expanded_conv_depthwise_BN (Bat (None, 88, 113, 32)  128         expanded_conv_depthwise[0][0]    \n",
            "__________________________________________________________________________________________________\n",
            "expanded_conv_depthwise_relu (R (None, 88, 113, 32)  0           expanded_conv_depthwise_BN[0][0] \n",
            "__________________________________________________________________________________________________\n",
            "expanded_conv_project (Conv2D)  (None, 88, 113, 16)  512         expanded_conv_depthwise_relu[0][0\n",
            "__________________________________________________________________________________________________\n",
            "expanded_conv_project_BN (Batch (None, 88, 113, 16)  64          expanded_conv_project[0][0]      \n",
            "__________________________________________________________________________________________________\n",
            "block_1_expand (Conv2D)         (None, 88, 113, 96)  1536        expanded_conv_project_BN[0][0]   \n",
            "__________________________________________________________________________________________________\n",
            "block_1_expand_BN (BatchNormali (None, 88, 113, 96)  384         block_1_expand[0][0]             \n",
            "__________________________________________________________________________________________________\n",
            "block_1_expand_relu (ReLU)      (None, 88, 113, 96)  0           block_1_expand_BN[0][0]          \n",
            "__________________________________________________________________________________________________\n",
            "block_1_pad (ZeroPadding2D)     (None, 89, 115, 96)  0           block_1_expand_relu[0][0]        \n",
            "__________________________________________________________________________________________________\n",
            "block_1_depthwise (DepthwiseCon (None, 44, 57, 96)   864         block_1_pad[0][0]                \n",
            "__________________________________________________________________________________________________\n",
            "block_1_depthwise_BN (BatchNorm (None, 44, 57, 96)   384         block_1_depthwise[0][0]          \n",
            "__________________________________________________________________________________________________\n",
            "block_1_depthwise_relu (ReLU)   (None, 44, 57, 96)   0           block_1_depthwise_BN[0][0]       \n",
            "__________________________________________________________________________________________________\n",
            "block_1_project (Conv2D)        (None, 44, 57, 24)   2304        block_1_depthwise_relu[0][0]     \n",
            "__________________________________________________________________________________________________\n",
            "block_1_project_BN (BatchNormal (None, 44, 57, 24)   96          block_1_project[0][0]            \n",
            "__________________________________________________________________________________________________\n",
            "block_2_expand (Conv2D)         (None, 44, 57, 144)  3456        block_1_project_BN[0][0]         \n",
            "__________________________________________________________________________________________________\n",
            "block_2_expand_BN (BatchNormali (None, 44, 57, 144)  576         block_2_expand[0][0]             \n",
            "__________________________________________________________________________________________________\n",
            "block_2_expand_relu (ReLU)      (None, 44, 57, 144)  0           block_2_expand_BN[0][0]          \n",
            "__________________________________________________________________________________________________\n",
            "block_2_depthwise (DepthwiseCon (None, 44, 57, 144)  1296        block_2_expand_relu[0][0]        \n",
            "__________________________________________________________________________________________________\n",
            "block_2_depthwise_BN (BatchNorm (None, 44, 57, 144)  576         block_2_depthwise[0][0]          \n",
            "__________________________________________________________________________________________________\n",
            "block_2_depthwise_relu (ReLU)   (None, 44, 57, 144)  0           block_2_depthwise_BN[0][0]       \n",
            "__________________________________________________________________________________________________\n",
            "block_2_project (Conv2D)        (None, 44, 57, 24)   3456        block_2_depthwise_relu[0][0]     \n",
            "__________________________________________________________________________________________________\n",
            "block_2_project_BN (BatchNormal (None, 44, 57, 24)   96          block_2_project[0][0]            \n",
            "__________________________________________________________________________________________________\n",
            "block_2_add (Add)               (None, 44, 57, 24)   0           block_1_project_BN[0][0]         \n",
            "                                                                 block_2_project_BN[0][0]         \n",
            "__________________________________________________________________________________________________\n",
            "block_3_expand (Conv2D)         (None, 44, 57, 144)  3456        block_2_add[0][0]                \n",
            "__________________________________________________________________________________________________\n",
            "block_3_expand_BN (BatchNormali (None, 44, 57, 144)  576         block_3_expand[0][0]             \n",
            "__________________________________________________________________________________________________\n",
            "block_3_expand_relu (ReLU)      (None, 44, 57, 144)  0           block_3_expand_BN[0][0]          \n",
            "__________________________________________________________________________________________________\n",
            "block_3_pad (ZeroPadding2D)     (None, 45, 59, 144)  0           block_3_expand_relu[0][0]        \n",
            "__________________________________________________________________________________________________\n",
            "block_3_depthwise (DepthwiseCon (None, 22, 29, 144)  1296        block_3_pad[0][0]                \n",
            "__________________________________________________________________________________________________\n",
            "block_3_depthwise_BN (BatchNorm (None, 22, 29, 144)  576         block_3_depthwise[0][0]          \n",
            "__________________________________________________________________________________________________\n",
            "block_3_depthwise_relu (ReLU)   (None, 22, 29, 144)  0           block_3_depthwise_BN[0][0]       \n",
            "__________________________________________________________________________________________________\n",
            "block_3_project (Conv2D)        (None, 22, 29, 32)   4608        block_3_depthwise_relu[0][0]     \n",
            "__________________________________________________________________________________________________\n",
            "block_3_project_BN (BatchNormal (None, 22, 29, 32)   128         block_3_project[0][0]            \n",
            "__________________________________________________________________________________________________\n",
            "block_4_expand (Conv2D)         (None, 22, 29, 192)  6144        block_3_project_BN[0][0]         \n",
            "__________________________________________________________________________________________________\n",
            "block_4_expand_BN (BatchNormali (None, 22, 29, 192)  768         block_4_expand[0][0]             \n",
            "__________________________________________________________________________________________________\n",
            "block_4_expand_relu (ReLU)      (None, 22, 29, 192)  0           block_4_expand_BN[0][0]          \n",
            "__________________________________________________________________________________________________\n",
            "block_4_depthwise (DepthwiseCon (None, 22, 29, 192)  1728        block_4_expand_relu[0][0]        \n",
            "__________________________________________________________________________________________________\n",
            "block_4_depthwise_BN (BatchNorm (None, 22, 29, 192)  768         block_4_depthwise[0][0]          \n",
            "__________________________________________________________________________________________________\n",
            "block_4_depthwise_relu (ReLU)   (None, 22, 29, 192)  0           block_4_depthwise_BN[0][0]       \n",
            "__________________________________________________________________________________________________\n",
            "block_4_project (Conv2D)        (None, 22, 29, 32)   6144        block_4_depthwise_relu[0][0]     \n",
            "__________________________________________________________________________________________________\n",
            "block_4_project_BN (BatchNormal (None, 22, 29, 32)   128         block_4_project[0][0]            \n",
            "__________________________________________________________________________________________________\n",
            "block_4_add (Add)               (None, 22, 29, 32)   0           block_3_project_BN[0][0]         \n",
            "                                                                 block_4_project_BN[0][0]         \n",
            "__________________________________________________________________________________________________\n",
            "block_5_expand (Conv2D)         (None, 22, 29, 192)  6144        block_4_add[0][0]                \n",
            "__________________________________________________________________________________________________\n",
            "block_5_expand_BN (BatchNormali (None, 22, 29, 192)  768         block_5_expand[0][0]             \n",
            "__________________________________________________________________________________________________\n",
            "block_5_expand_relu (ReLU)      (None, 22, 29, 192)  0           block_5_expand_BN[0][0]          \n",
            "__________________________________________________________________________________________________\n",
            "block_5_depthwise (DepthwiseCon (None, 22, 29, 192)  1728        block_5_expand_relu[0][0]        \n",
            "__________________________________________________________________________________________________\n",
            "block_5_depthwise_BN (BatchNorm (None, 22, 29, 192)  768         block_5_depthwise[0][0]          \n",
            "__________________________________________________________________________________________________\n",
            "block_5_depthwise_relu (ReLU)   (None, 22, 29, 192)  0           block_5_depthwise_BN[0][0]       \n",
            "__________________________________________________________________________________________________\n",
            "block_5_project (Conv2D)        (None, 22, 29, 32)   6144        block_5_depthwise_relu[0][0]     \n",
            "__________________________________________________________________________________________________\n",
            "block_5_project_BN (BatchNormal (None, 22, 29, 32)   128         block_5_project[0][0]            \n",
            "__________________________________________________________________________________________________\n",
            "block_5_add (Add)               (None, 22, 29, 32)   0           block_4_add[0][0]                \n",
            "                                                                 block_5_project_BN[0][0]         \n",
            "__________________________________________________________________________________________________\n",
            "block_6_expand (Conv2D)         (None, 22, 29, 192)  6144        block_5_add[0][0]                \n",
            "__________________________________________________________________________________________________\n",
            "block_6_expand_BN (BatchNormali (None, 22, 29, 192)  768         block_6_expand[0][0]             \n",
            "__________________________________________________________________________________________________\n",
            "block_6_expand_relu (ReLU)      (None, 22, 29, 192)  0           block_6_expand_BN[0][0]          \n",
            "__________________________________________________________________________________________________\n",
            "block_6_pad (ZeroPadding2D)     (None, 23, 31, 192)  0           block_6_expand_relu[0][0]        \n",
            "__________________________________________________________________________________________________\n",
            "block_6_depthwise (DepthwiseCon (None, 11, 15, 192)  1728        block_6_pad[0][0]                \n",
            "__________________________________________________________________________________________________\n",
            "block_6_depthwise_BN (BatchNorm (None, 11, 15, 192)  768         block_6_depthwise[0][0]          \n",
            "__________________________________________________________________________________________________\n",
            "block_6_depthwise_relu (ReLU)   (None, 11, 15, 192)  0           block_6_depthwise_BN[0][0]       \n",
            "__________________________________________________________________________________________________\n",
            "block_6_project (Conv2D)        (None, 11, 15, 64)   12288       block_6_depthwise_relu[0][0]     \n",
            "__________________________________________________________________________________________________\n",
            "block_6_project_BN (BatchNormal (None, 11, 15, 64)   256         block_6_project[0][0]            \n",
            "__________________________________________________________________________________________________\n",
            "block_7_expand (Conv2D)         (None, 11, 15, 384)  24576       block_6_project_BN[0][0]         \n",
            "__________________________________________________________________________________________________\n",
            "block_7_expand_BN (BatchNormali (None, 11, 15, 384)  1536        block_7_expand[0][0]             \n",
            "__________________________________________________________________________________________________\n",
            "block_7_expand_relu (ReLU)      (None, 11, 15, 384)  0           block_7_expand_BN[0][0]          \n",
            "__________________________________________________________________________________________________\n",
            "block_7_depthwise (DepthwiseCon (None, 11, 15, 384)  3456        block_7_expand_relu[0][0]        \n",
            "__________________________________________________________________________________________________\n",
            "block_7_depthwise_BN (BatchNorm (None, 11, 15, 384)  1536        block_7_depthwise[0][0]          \n",
            "__________________________________________________________________________________________________\n",
            "block_7_depthwise_relu (ReLU)   (None, 11, 15, 384)  0           block_7_depthwise_BN[0][0]       \n",
            "__________________________________________________________________________________________________\n",
            "block_7_project (Conv2D)        (None, 11, 15, 64)   24576       block_7_depthwise_relu[0][0]     \n",
            "__________________________________________________________________________________________________\n",
            "block_7_project_BN (BatchNormal (None, 11, 15, 64)   256         block_7_project[0][0]            \n",
            "__________________________________________________________________________________________________\n",
            "block_7_add (Add)               (None, 11, 15, 64)   0           block_6_project_BN[0][0]         \n",
            "                                                                 block_7_project_BN[0][0]         \n",
            "__________________________________________________________________________________________________\n",
            "block_8_expand (Conv2D)         (None, 11, 15, 384)  24576       block_7_add[0][0]                \n",
            "__________________________________________________________________________________________________\n",
            "block_8_expand_BN (BatchNormali (None, 11, 15, 384)  1536        block_8_expand[0][0]             \n",
            "__________________________________________________________________________________________________\n",
            "block_8_expand_relu (ReLU)      (None, 11, 15, 384)  0           block_8_expand_BN[0][0]          \n",
            "__________________________________________________________________________________________________\n",
            "block_8_depthwise (DepthwiseCon (None, 11, 15, 384)  3456        block_8_expand_relu[0][0]        \n",
            "__________________________________________________________________________________________________\n",
            "block_8_depthwise_BN (BatchNorm (None, 11, 15, 384)  1536        block_8_depthwise[0][0]          \n",
            "__________________________________________________________________________________________________\n",
            "block_8_depthwise_relu (ReLU)   (None, 11, 15, 384)  0           block_8_depthwise_BN[0][0]       \n",
            "__________________________________________________________________________________________________\n",
            "block_8_project (Conv2D)        (None, 11, 15, 64)   24576       block_8_depthwise_relu[0][0]     \n",
            "__________________________________________________________________________________________________\n",
            "block_8_project_BN (BatchNormal (None, 11, 15, 64)   256         block_8_project[0][0]            \n",
            "__________________________________________________________________________________________________\n",
            "block_8_add (Add)               (None, 11, 15, 64)   0           block_7_add[0][0]                \n",
            "                                                                 block_8_project_BN[0][0]         \n",
            "__________________________________________________________________________________________________\n",
            "block_9_expand (Conv2D)         (None, 11, 15, 384)  24576       block_8_add[0][0]                \n",
            "__________________________________________________________________________________________________\n",
            "block_9_expand_BN (BatchNormali (None, 11, 15, 384)  1536        block_9_expand[0][0]             \n",
            "__________________________________________________________________________________________________\n",
            "block_9_expand_relu (ReLU)      (None, 11, 15, 384)  0           block_9_expand_BN[0][0]          \n",
            "__________________________________________________________________________________________________\n",
            "block_9_depthwise (DepthwiseCon (None, 11, 15, 384)  3456        block_9_expand_relu[0][0]        \n",
            "__________________________________________________________________________________________________\n",
            "block_9_depthwise_BN (BatchNorm (None, 11, 15, 384)  1536        block_9_depthwise[0][0]          \n",
            "__________________________________________________________________________________________________\n",
            "block_9_depthwise_relu (ReLU)   (None, 11, 15, 384)  0           block_9_depthwise_BN[0][0]       \n",
            "__________________________________________________________________________________________________\n",
            "block_9_project (Conv2D)        (None, 11, 15, 64)   24576       block_9_depthwise_relu[0][0]     \n",
            "__________________________________________________________________________________________________\n",
            "block_9_project_BN (BatchNormal (None, 11, 15, 64)   256         block_9_project[0][0]            \n",
            "__________________________________________________________________________________________________\n",
            "block_9_add (Add)               (None, 11, 15, 64)   0           block_8_add[0][0]                \n",
            "                                                                 block_9_project_BN[0][0]         \n",
            "__________________________________________________________________________________________________\n",
            "block_10_expand (Conv2D)        (None, 11, 15, 384)  24576       block_9_add[0][0]                \n",
            "__________________________________________________________________________________________________\n",
            "block_10_expand_BN (BatchNormal (None, 11, 15, 384)  1536        block_10_expand[0][0]            \n",
            "__________________________________________________________________________________________________\n",
            "block_10_expand_relu (ReLU)     (None, 11, 15, 384)  0           block_10_expand_BN[0][0]         \n",
            "__________________________________________________________________________________________________\n",
            "block_10_depthwise (DepthwiseCo (None, 11, 15, 384)  3456        block_10_expand_relu[0][0]       \n",
            "__________________________________________________________________________________________________\n",
            "block_10_depthwise_BN (BatchNor (None, 11, 15, 384)  1536        block_10_depthwise[0][0]         \n",
            "__________________________________________________________________________________________________\n",
            "block_10_depthwise_relu (ReLU)  (None, 11, 15, 384)  0           block_10_depthwise_BN[0][0]      \n",
            "__________________________________________________________________________________________________\n",
            "block_10_project (Conv2D)       (None, 11, 15, 96)   36864       block_10_depthwise_relu[0][0]    \n",
            "__________________________________________________________________________________________________\n",
            "block_10_project_BN (BatchNorma (None, 11, 15, 96)   384         block_10_project[0][0]           \n",
            "__________________________________________________________________________________________________\n",
            "block_11_expand (Conv2D)        (None, 11, 15, 576)  55296       block_10_project_BN[0][0]        \n",
            "__________________________________________________________________________________________________\n",
            "block_11_expand_BN (BatchNormal (None, 11, 15, 576)  2304        block_11_expand[0][0]            \n",
            "__________________________________________________________________________________________________\n",
            "block_11_expand_relu (ReLU)     (None, 11, 15, 576)  0           block_11_expand_BN[0][0]         \n",
            "__________________________________________________________________________________________________\n",
            "block_11_depthwise (DepthwiseCo (None, 11, 15, 576)  5184        block_11_expand_relu[0][0]       \n",
            "__________________________________________________________________________________________________\n",
            "block_11_depthwise_BN (BatchNor (None, 11, 15, 576)  2304        block_11_depthwise[0][0]         \n",
            "__________________________________________________________________________________________________\n",
            "block_11_depthwise_relu (ReLU)  (None, 11, 15, 576)  0           block_11_depthwise_BN[0][0]      \n",
            "__________________________________________________________________________________________________\n",
            "block_11_project (Conv2D)       (None, 11, 15, 96)   55296       block_11_depthwise_relu[0][0]    \n",
            "__________________________________________________________________________________________________\n",
            "block_11_project_BN (BatchNorma (None, 11, 15, 96)   384         block_11_project[0][0]           \n",
            "__________________________________________________________________________________________________\n",
            "block_11_add (Add)              (None, 11, 15, 96)   0           block_10_project_BN[0][0]        \n",
            "                                                                 block_11_project_BN[0][0]        \n",
            "__________________________________________________________________________________________________\n",
            "block_12_expand (Conv2D)        (None, 11, 15, 576)  55296       block_11_add[0][0]               \n",
            "__________________________________________________________________________________________________\n",
            "block_12_expand_BN (BatchNormal (None, 11, 15, 576)  2304        block_12_expand[0][0]            \n",
            "__________________________________________________________________________________________________\n",
            "block_12_expand_relu (ReLU)     (None, 11, 15, 576)  0           block_12_expand_BN[0][0]         \n",
            "__________________________________________________________________________________________________\n",
            "block_12_depthwise (DepthwiseCo (None, 11, 15, 576)  5184        block_12_expand_relu[0][0]       \n",
            "__________________________________________________________________________________________________\n",
            "block_12_depthwise_BN (BatchNor (None, 11, 15, 576)  2304        block_12_depthwise[0][0]         \n",
            "__________________________________________________________________________________________________\n",
            "block_12_depthwise_relu (ReLU)  (None, 11, 15, 576)  0           block_12_depthwise_BN[0][0]      \n",
            "__________________________________________________________________________________________________\n",
            "block_12_project (Conv2D)       (None, 11, 15, 96)   55296       block_12_depthwise_relu[0][0]    \n",
            "__________________________________________________________________________________________________\n",
            "block_12_project_BN (BatchNorma (None, 11, 15, 96)   384         block_12_project[0][0]           \n",
            "__________________________________________________________________________________________________\n",
            "block_12_add (Add)              (None, 11, 15, 96)   0           block_11_add[0][0]               \n",
            "                                                                 block_12_project_BN[0][0]        \n",
            "__________________________________________________________________________________________________\n",
            "block_13_expand (Conv2D)        (None, 11, 15, 576)  55296       block_12_add[0][0]               \n",
            "__________________________________________________________________________________________________\n",
            "block_13_expand_BN (BatchNormal (None, 11, 15, 576)  2304        block_13_expand[0][0]            \n",
            "__________________________________________________________________________________________________\n",
            "block_13_expand_relu (ReLU)     (None, 11, 15, 576)  0           block_13_expand_BN[0][0]         \n",
            "__________________________________________________________________________________________________\n",
            "block_13_pad (ZeroPadding2D)    (None, 13, 17, 576)  0           block_13_expand_relu[0][0]       \n",
            "__________________________________________________________________________________________________\n",
            "block_13_depthwise (DepthwiseCo (None, 6, 8, 576)    5184        block_13_pad[0][0]               \n",
            "__________________________________________________________________________________________________\n",
            "block_13_depthwise_BN (BatchNor (None, 6, 8, 576)    2304        block_13_depthwise[0][0]         \n",
            "__________________________________________________________________________________________________\n",
            "block_13_depthwise_relu (ReLU)  (None, 6, 8, 576)    0           block_13_depthwise_BN[0][0]      \n",
            "__________________________________________________________________________________________________\n",
            "block_13_project (Conv2D)       (None, 6, 8, 160)    92160       block_13_depthwise_relu[0][0]    \n",
            "__________________________________________________________________________________________________\n",
            "block_13_project_BN (BatchNorma (None, 6, 8, 160)    640         block_13_project[0][0]           \n",
            "__________________________________________________________________________________________________\n",
            "block_14_expand (Conv2D)        (None, 6, 8, 960)    153600      block_13_project_BN[0][0]        \n",
            "__________________________________________________________________________________________________\n",
            "block_14_expand_BN (BatchNormal (None, 6, 8, 960)    3840        block_14_expand[0][0]            \n",
            "__________________________________________________________________________________________________\n",
            "block_14_expand_relu (ReLU)     (None, 6, 8, 960)    0           block_14_expand_BN[0][0]         \n",
            "__________________________________________________________________________________________________\n",
            "block_14_depthwise (DepthwiseCo (None, 6, 8, 960)    8640        block_14_expand_relu[0][0]       \n",
            "__________________________________________________________________________________________________\n",
            "block_14_depthwise_BN (BatchNor (None, 6, 8, 960)    3840        block_14_depthwise[0][0]         \n",
            "__________________________________________________________________________________________________\n",
            "block_14_depthwise_relu (ReLU)  (None, 6, 8, 960)    0           block_14_depthwise_BN[0][0]      \n",
            "__________________________________________________________________________________________________\n",
            "block_14_project (Conv2D)       (None, 6, 8, 160)    153600      block_14_depthwise_relu[0][0]    \n",
            "__________________________________________________________________________________________________\n",
            "block_14_project_BN (BatchNorma (None, 6, 8, 160)    640         block_14_project[0][0]           \n",
            "__________________________________________________________________________________________________\n",
            "block_14_add (Add)              (None, 6, 8, 160)    0           block_13_project_BN[0][0]        \n",
            "                                                                 block_14_project_BN[0][0]        \n",
            "__________________________________________________________________________________________________\n",
            "block_15_expand (Conv2D)        (None, 6, 8, 960)    153600      block_14_add[0][0]               \n",
            "__________________________________________________________________________________________________\n",
            "block_15_expand_BN (BatchNormal (None, 6, 8, 960)    3840        block_15_expand[0][0]            \n",
            "__________________________________________________________________________________________________\n",
            "block_15_expand_relu (ReLU)     (None, 6, 8, 960)    0           block_15_expand_BN[0][0]         \n",
            "__________________________________________________________________________________________________\n",
            "block_15_depthwise (DepthwiseCo (None, 6, 8, 960)    8640        block_15_expand_relu[0][0]       \n",
            "__________________________________________________________________________________________________\n",
            "block_15_depthwise_BN (BatchNor (None, 6, 8, 960)    3840        block_15_depthwise[0][0]         \n",
            "__________________________________________________________________________________________________\n",
            "block_15_depthwise_relu (ReLU)  (None, 6, 8, 960)    0           block_15_depthwise_BN[0][0]      \n",
            "__________________________________________________________________________________________________\n",
            "block_15_project (Conv2D)       (None, 6, 8, 160)    153600      block_15_depthwise_relu[0][0]    \n",
            "__________________________________________________________________________________________________\n",
            "block_15_project_BN (BatchNorma (None, 6, 8, 160)    640         block_15_project[0][0]           \n",
            "__________________________________________________________________________________________________\n",
            "block_15_add (Add)              (None, 6, 8, 160)    0           block_14_add[0][0]               \n",
            "                                                                 block_15_project_BN[0][0]        \n",
            "__________________________________________________________________________________________________\n",
            "block_16_expand (Conv2D)        (None, 6, 8, 960)    153600      block_15_add[0][0]               \n",
            "__________________________________________________________________________________________________\n",
            "block_16_expand_BN (BatchNormal (None, 6, 8, 960)    3840        block_16_expand[0][0]            \n",
            "__________________________________________________________________________________________________\n",
            "block_16_expand_relu (ReLU)     (None, 6, 8, 960)    0           block_16_expand_BN[0][0]         \n",
            "__________________________________________________________________________________________________\n",
            "block_16_depthwise (DepthwiseCo (None, 6, 8, 960)    8640        block_16_expand_relu[0][0]       \n",
            "__________________________________________________________________________________________________\n",
            "block_16_depthwise_BN (BatchNor (None, 6, 8, 960)    3840        block_16_depthwise[0][0]         \n",
            "__________________________________________________________________________________________________\n",
            "block_16_depthwise_relu (ReLU)  (None, 6, 8, 960)    0           block_16_depthwise_BN[0][0]      \n",
            "__________________________________________________________________________________________________\n",
            "block_16_project (Conv2D)       (None, 6, 8, 320)    307200      block_16_depthwise_relu[0][0]    \n",
            "__________________________________________________________________________________________________\n",
            "block_16_project_BN (BatchNorma (None, 6, 8, 320)    1280        block_16_project[0][0]           \n",
            "__________________________________________________________________________________________________\n",
            "Conv_1 (Conv2D)                 (None, 6, 8, 1280)   409600      block_16_project_BN[0][0]        \n",
            "__________________________________________________________________________________________________\n",
            "Conv_1_bn (BatchNormalization)  (None, 6, 8, 1280)   5120        Conv_1[0][0]                     \n",
            "__________________________________________________________________________________________________\n",
            "out_relu (ReLU)                 (None, 6, 8, 1280)   0           Conv_1_bn[0][0]                  \n",
            "==================================================================================================\n",
            "Total params: 2,257,984\n",
            "Trainable params: 2,223,872\n",
            "Non-trainable params: 34,112\n",
            "__________________________________________________________________________________________________\n"
          ],
          "name": "stdout"
        }
      ]
    },
    {
      "cell_type": "markdown",
      "metadata": {
        "id": "SwOh1r_iOUW3"
      },
      "source": [
        "Fine tuning on MobileNet by unfreezing the first 75 layer of the model"
      ]
    },
    {
      "cell_type": "code",
      "metadata": {
        "id": "t9xFdTzAqeuF"
      },
      "source": [
        "base_model.trainable = True\n",
        "\n",
        "for layer in base_model.layers[:25]:\n",
        "  layer.trainable = False"
      ],
      "execution_count": null,
      "outputs": []
    },
    {
      "cell_type": "code",
      "metadata": {
        "id": "HOKIyZErMpZ7"
      },
      "source": [
        "inputs = tf.keras.Input(shape=IMG_SHAPE)\n",
        "x = base_model(inputs, training=False)\n",
        "x = tf.keras.layers.GlobalAveragePooling2D()(x)\n",
        "x = tf.keras.layers.Dropout(0.5)(x)\n",
        "x = tf.keras.layers.Dense(16)(x)\n",
        "x = tf.keras.layers.Dense(32)(x)\n",
        "x = tf.keras.layers.Dense(64)(x)\n",
        "x = tf.keras.layers.Dense(32)(x)\n",
        "x = tf.keras.layers.Dense(16)(x)\n",
        "outputs = tf.keras.layers.Dense(4, activation='softmax')(x)\n",
        "model = tf.keras.Model(inputs, outputs)"
      ],
      "execution_count": null,
      "outputs": []
    },
    {
      "cell_type": "code",
      "metadata": {
        "colab": {
          "base_uri": "https://localhost:8080/"
        },
        "id": "6cI1_bJtNWT4",
        "outputId": "d7e7a954-f4b4-4c75-b129-08567baf9cf9"
      },
      "source": [
        "model.compile(optimizer=tf.keras.optimizers.Adam(learning_rate=1e-6),\n",
        "              loss='categorical_crossentropy',\n",
        "              metrics=['accuracy'])\n",
        "model.summary()"
      ],
      "execution_count": null,
      "outputs": [
        {
          "output_type": "stream",
          "text": [
            "Model: \"model_9\"\n",
            "_________________________________________________________________\n",
            "Layer (type)                 Output Shape              Param #   \n",
            "=================================================================\n",
            "input_20 (InputLayer)        [(None, 175, 225, 3)]     0         \n",
            "_________________________________________________________________\n",
            "mobilenetv2_1.00_224 (Functi (None, 6, 8, 1280)        2257984   \n",
            "_________________________________________________________________\n",
            "global_average_pooling2d_9 ( (None, 1280)              0         \n",
            "_________________________________________________________________\n",
            "dropout_21 (Dropout)         (None, 1280)              0         \n",
            "_________________________________________________________________\n",
            "dense_54 (Dense)             (None, 16)                20496     \n",
            "_________________________________________________________________\n",
            "dense_55 (Dense)             (None, 32)                544       \n",
            "_________________________________________________________________\n",
            "dense_56 (Dense)             (None, 64)                2112      \n",
            "_________________________________________________________________\n",
            "dense_57 (Dense)             (None, 32)                2080      \n",
            "_________________________________________________________________\n",
            "dense_58 (Dense)             (None, 16)                528       \n",
            "_________________________________________________________________\n",
            "dense_59 (Dense)             (None, 4)                 68        \n",
            "=================================================================\n",
            "Total params: 2,283,812\n",
            "Trainable params: 2,233,956\n",
            "Non-trainable params: 49,856\n",
            "_________________________________________________________________\n"
          ],
          "name": "stdout"
        }
      ]
    },
    {
      "cell_type": "code",
      "metadata": {
        "id": "LCtyYi5nL3lS"
      },
      "source": [
        "class Acc_Callback(tf.keras.callbacks.Callback):\n",
        "  def on_epoch_end(self, epoch, logs):\n",
        "    if logs['accuracy'] > 0.95:\n",
        "      print('\\nAccuracy is more than 95%')\n",
        "      self.model.stop_training = True\n",
        "    elif logs['val_accuracy'] > 0.95:\n",
        "      print('\\nVal-Accuracy is more than 95%')\n",
        "      self.model.stop_training = True\n",
        "\n",
        "earlyStop = tf.keras.callbacks.EarlyStopping(monitor='accuracy', min_delta=1e-5, patience=5)\n",
        "\n",
        "callbacks = [Acc_Callback(),\n",
        "            #  earlyStop,\n",
        "             ]"
      ],
      "execution_count": null,
      "outputs": []
    },
    {
      "cell_type": "code",
      "metadata": {
        "colab": {
          "base_uri": "https://localhost:8080/"
        },
        "id": "74db67YlJ8Rj",
        "outputId": "ba2a3fad-b438-46ba-df16-da953a6e70a3"
      },
      "source": [
        "history = model.fit(train_generator,\n",
        "                    validation_data=validation_generator,\n",
        "                    steps_per_epoch=train_batch,\n",
        "                    epochs=train_epoch,\n",
        "                    validation_steps=val_epoch,\n",
        "                    verbose=2,\n",
        "                    callbacks=callbacks,\n",
        "                    class_weight=class_weights)"
      ],
      "execution_count": null,
      "outputs": [
        {
          "output_type": "stream",
          "text": [
            "Epoch 1/80\n",
            "40/40 - 17s - loss: 1.9290 - accuracy: 0.2362 - val_loss: 1.5595 - val_accuracy: 0.3088\n",
            "Epoch 2/80\n",
            "40/40 - 10s - loss: 1.6919 - accuracy: 0.2812 - val_loss: 1.4487 - val_accuracy: 0.3388\n",
            "Epoch 3/80\n",
            "40/40 - 10s - loss: 1.4876 - accuracy: 0.3232 - val_loss: 1.3776 - val_accuracy: 0.3738\n",
            "Epoch 4/80\n",
            "40/40 - 10s - loss: 1.4369 - accuracy: 0.3663 - val_loss: 1.3359 - val_accuracy: 0.4125\n",
            "Epoch 5/80\n",
            "40/40 - 10s - loss: 1.3609 - accuracy: 0.3835 - val_loss: 1.2892 - val_accuracy: 0.4462\n",
            "Epoch 6/80\n",
            "40/40 - 10s - loss: 1.3000 - accuracy: 0.4125 - val_loss: 1.2498 - val_accuracy: 0.4625\n",
            "Epoch 7/80\n",
            "40/40 - 10s - loss: 1.2367 - accuracy: 0.4406 - val_loss: 1.2078 - val_accuracy: 0.4812\n",
            "Epoch 8/80\n",
            "40/40 - 10s - loss: 1.1855 - accuracy: 0.4812 - val_loss: 1.1851 - val_accuracy: 0.4850\n",
            "Epoch 9/80\n",
            "40/40 - 10s - loss: 1.1317 - accuracy: 0.5100 - val_loss: 1.1483 - val_accuracy: 0.5113\n",
            "Epoch 10/80\n",
            "40/40 - 10s - loss: 1.0970 - accuracy: 0.5270 - val_loss: 1.1169 - val_accuracy: 0.5238\n",
            "Epoch 11/80\n",
            "40/40 - 10s - loss: 1.0914 - accuracy: 0.5390 - val_loss: 1.0770 - val_accuracy: 0.5487\n",
            "Epoch 12/80\n",
            "40/40 - 10s - loss: 1.0205 - accuracy: 0.5713 - val_loss: 1.0489 - val_accuracy: 0.5575\n",
            "Epoch 13/80\n",
            "40/40 - 10s - loss: 1.0108 - accuracy: 0.5803 - val_loss: 1.0154 - val_accuracy: 0.5738\n",
            "Epoch 14/80\n",
            "40/40 - 11s - loss: 0.9447 - accuracy: 0.6269 - val_loss: 0.9832 - val_accuracy: 0.5838\n",
            "Epoch 15/80\n",
            "40/40 - 10s - loss: 0.9504 - accuracy: 0.6133 - val_loss: 0.9538 - val_accuracy: 0.6050\n",
            "Epoch 16/80\n",
            "40/40 - 10s - loss: 0.8972 - accuracy: 0.6431 - val_loss: 0.9275 - val_accuracy: 0.6125\n",
            "Epoch 17/80\n",
            "40/40 - 10s - loss: 0.8871 - accuracy: 0.6388 - val_loss: 0.8960 - val_accuracy: 0.6363\n",
            "Epoch 18/80\n",
            "40/40 - 10s - loss: 0.8153 - accuracy: 0.6762 - val_loss: 0.8673 - val_accuracy: 0.6538\n",
            "Epoch 19/80\n",
            "40/40 - 10s - loss: 0.7968 - accuracy: 0.6894 - val_loss: 0.8477 - val_accuracy: 0.6587\n",
            "Epoch 20/80\n",
            "40/40 - 10s - loss: 0.7846 - accuracy: 0.6862 - val_loss: 0.8155 - val_accuracy: 0.6850\n",
            "Epoch 21/80\n",
            "40/40 - 10s - loss: 0.7314 - accuracy: 0.7181 - val_loss: 0.7839 - val_accuracy: 0.7088\n",
            "Epoch 22/80\n",
            "40/40 - 10s - loss: 0.7005 - accuracy: 0.7276 - val_loss: 0.7571 - val_accuracy: 0.7262\n",
            "Epoch 23/80\n",
            "40/40 - 10s - loss: 0.6857 - accuracy: 0.7429 - val_loss: 0.7306 - val_accuracy: 0.7337\n",
            "Epoch 24/80\n",
            "40/40 - 10s - loss: 0.6561 - accuracy: 0.7675 - val_loss: 0.7071 - val_accuracy: 0.7450\n",
            "Epoch 25/80\n",
            "40/40 - 10s - loss: 0.6445 - accuracy: 0.7462 - val_loss: 0.6787 - val_accuracy: 0.7663\n",
            "Epoch 26/80\n",
            "40/40 - 10s - loss: 0.6360 - accuracy: 0.7688 - val_loss: 0.6672 - val_accuracy: 0.7688\n",
            "Epoch 27/80\n",
            "40/40 - 10s - loss: 0.5659 - accuracy: 0.8056 - val_loss: 0.6293 - val_accuracy: 0.8012\n",
            "Epoch 28/80\n",
            "40/40 - 10s - loss: 0.5795 - accuracy: 0.7794 - val_loss: 0.6116 - val_accuracy: 0.8025\n",
            "Epoch 29/80\n",
            "40/40 - 10s - loss: 0.5566 - accuracy: 0.8031 - val_loss: 0.5917 - val_accuracy: 0.8175\n",
            "Epoch 30/80\n",
            "40/40 - 10s - loss: 0.5229 - accuracy: 0.8114 - val_loss: 0.5549 - val_accuracy: 0.8338\n",
            "Epoch 31/80\n",
            "40/40 - 10s - loss: 0.5154 - accuracy: 0.8100 - val_loss: 0.5539 - val_accuracy: 0.8350\n",
            "Epoch 32/80\n",
            "40/40 - 10s - loss: 0.4882 - accuracy: 0.8349 - val_loss: 0.5203 - val_accuracy: 0.8550\n",
            "Epoch 33/80\n",
            "40/40 - 10s - loss: 0.4714 - accuracy: 0.8413 - val_loss: 0.5036 - val_accuracy: 0.8637\n",
            "Epoch 34/80\n",
            "40/40 - 10s - loss: 0.4550 - accuracy: 0.8400 - val_loss: 0.4889 - val_accuracy: 0.8687\n",
            "Epoch 35/80\n",
            "40/40 - 10s - loss: 0.4242 - accuracy: 0.8540 - val_loss: 0.4777 - val_accuracy: 0.8575\n",
            "Epoch 36/80\n",
            "40/40 - 10s - loss: 0.4100 - accuracy: 0.8644 - val_loss: 0.4501 - val_accuracy: 0.8788\n",
            "Epoch 37/80\n",
            "40/40 - 10s - loss: 0.4112 - accuracy: 0.8610 - val_loss: 0.4313 - val_accuracy: 0.8825\n",
            "Epoch 38/80\n",
            "40/40 - 10s - loss: 0.3614 - accuracy: 0.8775 - val_loss: 0.4233 - val_accuracy: 0.8788\n",
            "Epoch 39/80\n",
            "40/40 - 10s - loss: 0.3532 - accuracy: 0.8894 - val_loss: 0.4194 - val_accuracy: 0.8788\n",
            "Epoch 40/80\n",
            "40/40 - 10s - loss: 0.3419 - accuracy: 0.8894 - val_loss: 0.3938 - val_accuracy: 0.8888\n",
            "Epoch 41/80\n",
            "40/40 - 10s - loss: 0.3401 - accuracy: 0.8919 - val_loss: 0.3916 - val_accuracy: 0.8875\n",
            "Epoch 42/80\n",
            "40/40 - 10s - loss: 0.3264 - accuracy: 0.8944 - val_loss: 0.3634 - val_accuracy: 0.9013\n",
            "Epoch 43/80\n",
            "40/40 - 10s - loss: 0.2956 - accuracy: 0.9022 - val_loss: 0.3675 - val_accuracy: 0.8938\n",
            "Epoch 44/80\n",
            "40/40 - 10s - loss: 0.3155 - accuracy: 0.8971 - val_loss: 0.3545 - val_accuracy: 0.9038\n",
            "Epoch 45/80\n",
            "40/40 - 11s - loss: 0.2935 - accuracy: 0.9060 - val_loss: 0.3352 - val_accuracy: 0.9137\n",
            "Epoch 46/80\n",
            "40/40 - 10s - loss: 0.2760 - accuracy: 0.9212 - val_loss: 0.3335 - val_accuracy: 0.9087\n",
            "Epoch 47/80\n",
            "40/40 - 10s - loss: 0.2504 - accuracy: 0.9295 - val_loss: 0.3214 - val_accuracy: 0.9112\n",
            "Epoch 48/80\n",
            "40/40 - 10s - loss: 0.2684 - accuracy: 0.9194 - val_loss: 0.3229 - val_accuracy: 0.9162\n",
            "Epoch 49/80\n",
            "40/40 - 10s - loss: 0.2411 - accuracy: 0.9302 - val_loss: 0.3072 - val_accuracy: 0.9162\n",
            "Epoch 50/80\n",
            "40/40 - 10s - loss: 0.2465 - accuracy: 0.9295 - val_loss: 0.2991 - val_accuracy: 0.9162\n",
            "Epoch 51/80\n",
            "40/40 - 10s - loss: 0.2160 - accuracy: 0.9352 - val_loss: 0.2763 - val_accuracy: 0.9187\n",
            "Epoch 52/80\n",
            "40/40 - 10s - loss: 0.2230 - accuracy: 0.9381 - val_loss: 0.2836 - val_accuracy: 0.9237\n",
            "Epoch 53/80\n",
            "40/40 - 10s - loss: 0.2137 - accuracy: 0.9394 - val_loss: 0.2660 - val_accuracy: 0.9325\n",
            "Epoch 54/80\n",
            "40/40 - 10s - loss: 0.2082 - accuracy: 0.9394 - val_loss: 0.2770 - val_accuracy: 0.9237\n",
            "Epoch 55/80\n",
            "40/40 - 10s - loss: 0.2078 - accuracy: 0.9362 - val_loss: 0.2560 - val_accuracy: 0.9237\n",
            "Epoch 56/80\n",
            "40/40 - 10s - loss: 0.1862 - accuracy: 0.9513 - val_loss: 0.2494 - val_accuracy: 0.9225\n",
            "\n",
            "Accuracy is more than 95%\n"
          ],
          "name": "stdout"
        }
      ]
    },
    {
      "cell_type": "code",
      "metadata": {
        "colab": {
          "base_uri": "https://localhost:8080/",
          "height": 562
        },
        "id": "lp-p-wlHLG7Y",
        "outputId": "38831121-de59-445f-9be8-df23817f9af2"
      },
      "source": [
        "import matplotlib.pyplot as plt\n",
        "\n",
        "acc = history.history['accuracy']\n",
        "val_acc = history.history['val_accuracy']\n",
        "loss = history.history['loss']\n",
        "val_loss = history.history['val_loss']\n",
        "\n",
        "epochs = range(len(acc))\n",
        "\n",
        "plt.plot(epochs, acc)\n",
        "plt.plot(epochs, val_acc)\n",
        "plt.title('Training and validation accuracy')\n",
        "plt.figure()\n",
        "\n",
        "plt.plot(epochs, loss)\n",
        "plt.plot(epochs, val_loss)\n",
        "plt.title ('Training and validation loss')"
      ],
      "execution_count": null,
      "outputs": [
        {
          "output_type": "execute_result",
          "data": {
            "text/plain": [
              "Text(0.5, 1.0, 'Training and validation loss')"
            ]
          },
          "metadata": {
            "tags": []
          },
          "execution_count": 149
        },
        {
          "output_type": "display_data",
          "data": {
            "image/png": "[encoded data removed]",
            "text/plain": [
              "<Figure size 432x288 with 1 Axes>"
            ]
          },
          "metadata": {
            "tags": [],
            "needs_background": "light"
          }
        },
        {
          "output_type": "display_data",
          "data": {
            "image/png": "[encoded data removed]",
            "text/plain": [
              "<Figure size 432x288 with 1 Axes>"
            ]
          },
          "metadata": {
            "tags": [],
            "needs_background": "light"
          }
        }
      ]
    },
    {
      "cell_type": "code",
      "metadata": {
        "id": "CU-v_VGjLA0w",
        "colab": {
          "base_uri": "https://localhost:8080/"
        },
        "outputId": "b9722b43-bc62-4bba-bbdc-a2ecfd7a69e7"
      },
      "source": [
        "import numpy as np\n",
        "# from google.colab import files\n",
        "from keras.preprocessing import image\n",
        "\n",
        "uploaded = files.upload()\n",
        "\n",
        "for fn in uploaded.keys():\n",
        "\n",
        "  path = '/content/' + fn\n",
        "  img = image.load_img(path, target_size=(IMG_WIDTH, IMG_HEIGHT))\n",
        "  \n",
        "  x = image.img_to_array(img)\n",
        "  x = np.expand_dims(x, axis=0)\n",
        "  images = np.vstack([x])\n",
        "  \n",
        "  classes_pred = model.predict(images, batch_size=10)\n",
        "  wayang_class = np.argmax(classes_pred)\n",
        "\n",
        "  print('{} is {}'.format(fn, wayang_labels[wayang_class]))\n",
        "  print(classes_pred)"
      ],
      "execution_count": null,
      "outputs": [
        {
          "output_type": "display_data",
          "data": {
            "text/html": [
              "\n",
              "     <input type=\"file\" id=\"files-34aefce7-14ac-4363-ac8e-ace57c69f42e\" name=\"files[]\" multiple disabled\n",
              "        style=\"border:none\" />\n",
              "     <output id=\"result-34aefce7-14ac-4363-ac8e-ace57c69f42e\">\n",
              "      Upload widget is only available when the cell has been executed in the\n",
              "      current browser session. Please rerun this cell to enable.\n",
              "      </output>\n",
              "      <script src=\"/nbextensions/google.colab/files.js\"></script> "
            ],
            "text/plain": [
              "<IPython.core.display.HTML object>"
            ]
          },
          "metadata": {
            "tags": []
          }
        }
      ]
    },
    {
      "cell_type": "code",
      "metadata": {
        "id": "vmRK5IfGcfsV"
      },
      "source": [
        "test_zip = '/content/wayang-test.zip'\n",
        "\n",
        "zip_ref = zipfile.ZipFile(test_zip, 'r')\n",
        "\n",
        "zip_ref.extractall('/content')\n",
        "zip_ref.close()"
      ],
      "execution_count": null,
      "outputs": []
    },
    {
      "cell_type": "code",
      "metadata": {
        "colab": {
          "base_uri": "https://localhost:8080/"
        },
        "id": "Kw6bFoXjbhQE",
        "outputId": "e157f43a-6064-4ef7-f73d-1bf558b6f935"
      },
      "source": [
        "test_dir = '/content/test'\n",
        "\n",
        "test_generator = train_datagen.flow_from_directory(test_dir,\n",
        "                                                   batch_size=1,\n",
        "                                                   class_mode='categorical',\n",
        "                                                   target_size=(IMG_HEIGHT, IMG_WIDTH)) "
      ],
      "execution_count": null,
      "outputs": [
        {
          "output_type": "stream",
          "text": [
            "Found 120 images belonging to 4 classes.\n"
          ],
          "name": "stdout"
        }
      ]
    },
    {
      "cell_type": "code",
      "metadata": {
        "colab": {
          "base_uri": "https://localhost:8080/"
        },
        "id": "KJiTx-9SdKBp",
        "outputId": "5cf7a192-531c-4b4f-8580-86fac4ea0446"
      },
      "source": [
        "model.evaluate(test_generator,\n",
        "               batch_size=1,\n",
        "               steps=120,\n",
        "               verbose=1)"
      ],
      "execution_count": null,
      "outputs": [
        {
          "output_type": "stream",
          "text": [
            "120/120 [==============================] - 2s 13ms/step - loss: 0.0200 - accuracy: 1.0000\n"
          ],
          "name": "stdout"
        },
        {
          "output_type": "execute_result",
          "data": {
            "text/plain": [
              "[0.02000564895570278, 1.0]"
            ]
          },
          "metadata": {
            "tags": []
          },
          "execution_count": 140
        }
      ]
    },
    {
      "cell_type": "code",
      "metadata": {
        "colab": {
          "base_uri": "https://localhost:8080/"
        },
        "id": "KcVGMktNZ_NV",
        "outputId": "edec1fc1-9a7b-424b-9632-abd8a3b65087"
      },
      "source": [
        "modelBaseName = 'wayang-mobilenet-v4'\n",
        "modelTFLite = modelBaseName + '.tflite'\n",
        "converter = tf.lite.TFLiteConverter.from_keras_model(model)\n",
        "tflite_model = converter.convert()\n",
        "\n",
        "# Save the model.\n",
        "with open(modelTFLite, 'wb') as f:\n",
        "  f.write(tflite_model)"
      ],
      "execution_count": null,
      "outputs": [
        {
          "output_type": "stream",
          "text": [
            "/usr/local/lib/python3.7/dist-packages/tensorflow/python/keras/utils/generic_utils.py:497: CustomMaskWarning: Custom mask layers require a config and must override get_config. When loading, the custom mask layer must be passed to the custom_objects argument.\n",
            "  category=CustomMaskWarning)\n"
          ],
          "name": "stderr"
        },
        {
          "output_type": "stream",
          "text": [
            "INFO:tensorflow:Assets written to: /tmp/tmpl_kwrz9f/assets\n"
          ],
          "name": "stdout"
        }
      ]
    },
    {
      "cell_type": "code",
      "metadata": {
        "colab": {
          "base_uri": "https://localhost:8080/",
          "height": 34
        },
        "id": "BjwCn1wGmmJB",
        "outputId": "0a31cf76-83d2-4193-85ba-aefacc3051d1"
      },
      "source": [
        "from google.colab import files\n",
        "\n",
        "files.download(modelTFLite)"
      ],
      "execution_count": null,
      "outputs": [
        {
          "output_type": "display_data",
          "data": {
            "application/javascript": [
              "\n",
              "    async function download(id, filename, size) {\n",
              "      if (!google.colab.kernel.accessAllowed) {\n",
              "        return;\n",
              "      }\n",
              "      const div = document.createElement('div');\n",
              "      const label = document.createElement('label');\n",
              "      label.textContent = `Downloading \"${filename}\": `;\n",
              "      div.appendChild(label);\n",
              "      const progress = document.createElement('progress');\n",
              "      progress.max = size;\n",
              "      div.appendChild(progress);\n",
              "      document.body.appendChild(div);\n",
              "\n",
              "      const buffers = [];\n",
              "      let downloaded = 0;\n",
              "\n",
              "      const channel = await google.colab.kernel.comms.open(id);\n",
              "      // Send a message to notify the kernel that we're ready.\n",
              "      channel.send({})\n",
              "\n",
              "      for await (const message of channel.messages) {\n",
              "        // Send a message to notify the kernel that we're ready.\n",
              "        channel.send({})\n",
              "        if (message.buffers) {\n",
              "          for (const buffer of message.buffers) {\n",
              "            buffers.push(buffer);\n",
              "            downloaded += buffer.byteLength;\n",
              "            progress.value = downloaded;\n",
              "          }\n",
              "        }\n",
              "      }\n",
              "      const blob = new Blob(buffers, {type: 'application/binary'});\n",
              "      const a = document.createElement('a');\n",
              "      a.href = window.URL.createObjectURL(blob);\n",
              "      a.download = filename;\n",
              "      div.appendChild(a);\n",
              "      a.click();\n",
              "      div.remove();\n",
              "    }\n",
              "  "
            ],
            "text/plain": [
              "<IPython.core.display.Javascript object>"
            ]
          },
          "metadata": {
            "tags": []
          }
        },
        {
          "output_type": "display_data",
          "data": {
            "application/javascript": [
              "download(\"download_cb4e559a-de37-48de-abcf-9bb40b893ab1\", \"wayang-mobilenet-v4.tflite\", 8974084)"
            ],
            "text/plain": [
              "<IPython.core.display.Javascript object>"
            ]
          },
          "metadata": {
            "tags": []
          }
        }
      ]
    }
  ]
}