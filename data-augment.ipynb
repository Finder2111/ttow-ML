{
 "metadata": {
  "language_info": {
   "codemirror_mode": {
    "name": "ipython",
    "version": 3
   },
   "file_extension": ".py",
   "mimetype": "text/x-python",
   "name": "python",
   "nbconvert_exporter": "python",
   "pygments_lexer": "ipython3",
   "version": "3.8.0"
  },
  "orig_nbformat": 2,
  "kernelspec": {
   "name": "python3",
   "display_name": "Python 3.8.0 64-bit",
   "metadata": {
    "interpreter": {
     "hash": "2db524e06e9f5f4ffedc911c917cb75e12dbc923643829bf417064a77eb14d37"
    }
   }
  }
 },
 "nbformat": 4,
 "nbformat_minor": 2,
 "cells": [
  {
   "cell_type": "code",
   "execution_count": null,
   "metadata": {},
   "outputs": [],
   "source": [
    "import os\n",
    "import zipfile\n",
    "\n",
    "local_zip = 'wayang-new.zip'\n",
    "\n",
    "zip_ref = zipfile.ZipFile(local_zip, 'r')\n",
    "\n",
    "zip_ref.extractall('.')\n",
    "zip_ref.close()"
   ]
  },
  {
   "cell_type": "code",
   "execution_count": 32,
   "metadata": {},
   "outputs": [
    {
     "output_type": "stream",
     "name": "stdout",
     "text": [
      "['bagong', 'gareng', 'petruk', 'semar']\n"
     ]
    }
   ],
   "source": [
    "base_dir = './new/'\n",
    "\n",
    "wayang_classes = os.listdir(base_dir)\n",
    "print(wayang_classes)"
   ]
  },
  {
   "cell_type": "code",
   "execution_count": null,
   "metadata": {},
   "outputs": [],
   "source": [
    "import tensorflow as tf\n",
    "from tensorflow.keras.preprocessing.image import ImageDataGenerator"
   ]
  },
  {
   "cell_type": "code",
   "execution_count": 40,
   "metadata": {
    "tags": []
   },
   "outputs": [],
   "source": [
    "image_batch_size = 20\n",
    "aug_image_total = 60\n",
    "\n",
    "new_datagen = ImageDataGenerator(rescale = 1.0/255,\n",
    "                                 horizontal_flip = True,\n",
    "                                 width_shift_range = 0.1,\n",
    "                                 height_shift_range = 0.1,\n",
    "                                 fill_mode = 'nearest',\n",
    "                                 rotation_range=15,\n",
    "                                 zoom_range=0.2)"
   ]
  },
  {
   "cell_type": "code",
   "execution_count": 41,
   "metadata": {},
   "outputs": [
    {
     "output_type": "stream",
     "name": "stdout",
     "text": [
      "Found 85 images belonging to 1 classes.\n",
      "Found 55 images belonging to 1 classes.\n",
      "Found 72 images belonging to 1 classes.\n",
      "Found 99 images belonging to 1 classes.\n"
     ]
    }
   ],
   "source": [
    "for wayang_class in wayang_classes:\n",
    "    aug_image_step = 0\n",
    "    new_generator = new_datagen.flow_from_directory(base_dir, batch_size=image_batch_size,\n",
    "                                                    class_mode='binary', classes=[wayang_class],\n",
    "                                                    target_size=(225, 175),\n",
    "                                                    shuffle=False, save_to_dir='/'.join(['augmented', wayang_class]),\n",
    "                                                    save_prefix='', save_format='jpg')\n",
    "    for image_batch in new_generator:\n",
    "        aug_image_step += 1\n",
    "        if aug_image_step > aug_image_total:\n",
    "            break"
   ]
  },
  {
   "cell_type": "code",
   "execution_count": 44,
   "metadata": {},
   "outputs": [],
   "source": [
    "augmented_dir = './augmented/'\n",
    "\n",
    "train_batch = 20\n",
    "validation_batch = 20"
   ]
  },
  {
   "cell_type": "code",
   "execution_count": 46,
   "metadata": {},
   "outputs": [
    {
     "output_type": "stream",
     "name": "stdout",
     "text": [
      "Found 3575 images belonging to 4 classes.\nFound 893 images belonging to 4 classes.\n"
     ]
    }
   ],
   "source": [
    "train_datagen = ImageDataGenerator(rescale = 1.0/255,\n",
    "                                 horizontal_flip = True,\n",
    "                                 width_shift_range = 0.1,\n",
    "                                 height_shift_range = 0.1,\n",
    "                                 fill_mode = 'nearest',\n",
    "                                 rotation_range=15,\n",
    "                                 zoom_range=0.2,\n",
    "                                 validation_split=0.2)\n",
    "\n",
    "train_generator = train_datagen.flow_from_directory(augmented_dir, batch_size=train_batch,\n",
    "                                                    class_mode='categorical', target_size=(225, 175),\n",
    "                                                    subset='training')\n",
    "\n",
    "validation_generator = train_datagen.flow_from_directory(augmented_dir, batch_size=validation_batch,\n",
    "                                                         class_mode='categorical', target_size=(225, 175),\n",
    "                                                         subset='validation')"
   ]
  }
 ]
}